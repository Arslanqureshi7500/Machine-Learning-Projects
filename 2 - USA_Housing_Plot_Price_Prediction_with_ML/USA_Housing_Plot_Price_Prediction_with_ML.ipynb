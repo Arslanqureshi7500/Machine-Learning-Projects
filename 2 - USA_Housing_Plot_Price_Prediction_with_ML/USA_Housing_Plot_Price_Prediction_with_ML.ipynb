{
  "nbformat": 4,
  "nbformat_minor": 0,
  "metadata": {
    "colab": {
      "provenance": [],
      "gpuType": "T4"
    },
    "kernelspec": {
      "name": "python3",
      "display_name": "Python 3"
    },
    "language_info": {
      "name": "python"
    },
    "accelerator": "GPU"
  },
  "cells": [
    {
      "cell_type": "code",
      "execution_count": 1,
      "metadata": {
        "id": "VyLrsw5yO1D6"
      },
      "outputs": [],
      "source": [
        "#Import various modules\n",
        "import numpy as np\n",
        "import pandas as pd\n",
        "import matplotlib.pyplot as plt\n",
        "import seaborn as sns\n",
        "%matplotlib inline\n",
        "\n",
        "import warnings\n",
        "warnings.filterwarnings('ignore')\n",
        "plt.rcParams[\"figure.figsize\"] = [10,5]\n",
        "# Ignore warnings\n",
        "\n",
        "import warnings\n",
        "# Set the warning filter to ignore FutureWarning\n",
        "warnings.simplefilter(action = \"ignore\", category = FutureWarning)"
      ]
    },
    {
      "cell_type": "markdown",
      "source": [
        "# **1. TRAINING DATA PRE-PROCESSING**\n",
        "\n",
        "The first step in the machine learning pipeline is to clean and transform the training data into a useable format for analysis and modeling.   \n",
        "\n",
        "As such, data pre-processing addresses:\n",
        "- Assumptions about data shape\n",
        "- Incorrect data types\n",
        "- Outliers or errors\n",
        "- Missing values\n",
        "- Categorical variables"
      ],
      "metadata": {
        "id": "vK7qk-2MQB96"
      }
    },
    {
      "cell_type": "markdown",
      "source": [
        "## **Data Load and its Shape**"
      ],
      "metadata": {
        "id": "Yix4smWAQrHw"
      }
    },
    {
      "cell_type": "code",
      "source": [
        "#Data Load\n",
        "full_data = pd.read_csv('/content/USA_Housing.csv')\n",
        "full_data.head()"
      ],
      "metadata": {
        "colab": {
          "base_uri": "https://localhost:8080/",
          "height": 434
        },
        "id": "JjTRzHTIPJMr",
        "outputId": "7d1a0059-9208-47e4-8c4e-485da5867706"
      },
      "execution_count": 2,
      "outputs": [
        {
          "output_type": "execute_result",
          "data": {
            "text/plain": [
              "   Avg. Area Income  Avg. Area House Age  Avg. Area Number of Rooms  \\\n",
              "0      79545.458574             5.682861                   7.009188   \n",
              "1      79248.642455             6.002900                   6.730821   \n",
              "2      61287.067179             5.865890                   8.512727   \n",
              "3      63345.240046             7.188236                   5.586729   \n",
              "4      59982.197226             5.040555                   7.839388   \n",
              "\n",
              "   Avg. Area Number of Bedrooms  Area Population         Price  \\\n",
              "0                          4.09     23086.800503  1.059034e+06   \n",
              "1                          3.09     40173.072174  1.505891e+06   \n",
              "2                          5.13     36882.159400  1.058988e+06   \n",
              "3                          3.26     34310.242831  1.260617e+06   \n",
              "4                          4.23     26354.109472  6.309435e+05   \n",
              "\n",
              "                                             Address  \n",
              "0  208 Michael Ferry Apt. 674\\nLaurabury, NE 3701...  \n",
              "1  188 Johnson Views Suite 079\\nLake Kathleen, CA...  \n",
              "2  9127 Elizabeth Stravenue\\nDanieltown, WI 06482...  \n",
              "3                          USS Barnett\\nFPO AP 44820  \n",
              "4                         USNS Raymond\\nFPO AE 09386  "
            ],
            "text/html": [
              "\n",
              "  <div id=\"df-77a62a34-c34a-4159-bbfa-6836d3350ac7\" class=\"colab-df-container\">\n",
              "    <div>\n",
              "<style scoped>\n",
              "    .dataframe tbody tr th:only-of-type {\n",
              "        vertical-align: middle;\n",
              "    }\n",
              "\n",
              "    .dataframe tbody tr th {\n",
              "        vertical-align: top;\n",
              "    }\n",
              "\n",
              "    .dataframe thead th {\n",
              "        text-align: right;\n",
              "    }\n",
              "</style>\n",
              "<table border=\"1\" class=\"dataframe\">\n",
              "  <thead>\n",
              "    <tr style=\"text-align: right;\">\n",
              "      <th></th>\n",
              "      <th>Avg. Area Income</th>\n",
              "      <th>Avg. Area House Age</th>\n",
              "      <th>Avg. Area Number of Rooms</th>\n",
              "      <th>Avg. Area Number of Bedrooms</th>\n",
              "      <th>Area Population</th>\n",
              "      <th>Price</th>\n",
              "      <th>Address</th>\n",
              "    </tr>\n",
              "  </thead>\n",
              "  <tbody>\n",
              "    <tr>\n",
              "      <th>0</th>\n",
              "      <td>79545.458574</td>\n",
              "      <td>5.682861</td>\n",
              "      <td>7.009188</td>\n",
              "      <td>4.09</td>\n",
              "      <td>23086.800503</td>\n",
              "      <td>1.059034e+06</td>\n",
              "      <td>208 Michael Ferry Apt. 674\\nLaurabury, NE 3701...</td>\n",
              "    </tr>\n",
              "    <tr>\n",
              "      <th>1</th>\n",
              "      <td>79248.642455</td>\n",
              "      <td>6.002900</td>\n",
              "      <td>6.730821</td>\n",
              "      <td>3.09</td>\n",
              "      <td>40173.072174</td>\n",
              "      <td>1.505891e+06</td>\n",
              "      <td>188 Johnson Views Suite 079\\nLake Kathleen, CA...</td>\n",
              "    </tr>\n",
              "    <tr>\n",
              "      <th>2</th>\n",
              "      <td>61287.067179</td>\n",
              "      <td>5.865890</td>\n",
              "      <td>8.512727</td>\n",
              "      <td>5.13</td>\n",
              "      <td>36882.159400</td>\n",
              "      <td>1.058988e+06</td>\n",
              "      <td>9127 Elizabeth Stravenue\\nDanieltown, WI 06482...</td>\n",
              "    </tr>\n",
              "    <tr>\n",
              "      <th>3</th>\n",
              "      <td>63345.240046</td>\n",
              "      <td>7.188236</td>\n",
              "      <td>5.586729</td>\n",
              "      <td>3.26</td>\n",
              "      <td>34310.242831</td>\n",
              "      <td>1.260617e+06</td>\n",
              "      <td>USS Barnett\\nFPO AP 44820</td>\n",
              "    </tr>\n",
              "    <tr>\n",
              "      <th>4</th>\n",
              "      <td>59982.197226</td>\n",
              "      <td>5.040555</td>\n",
              "      <td>7.839388</td>\n",
              "      <td>4.23</td>\n",
              "      <td>26354.109472</td>\n",
              "      <td>6.309435e+05</td>\n",
              "      <td>USNS Raymond\\nFPO AE 09386</td>\n",
              "    </tr>\n",
              "  </tbody>\n",
              "</table>\n",
              "</div>\n",
              "    <div class=\"colab-df-buttons\">\n",
              "\n",
              "  <div class=\"colab-df-container\">\n",
              "    <button class=\"colab-df-convert\" onclick=\"convertToInteractive('df-77a62a34-c34a-4159-bbfa-6836d3350ac7')\"\n",
              "            title=\"Convert this dataframe to an interactive table.\"\n",
              "            style=\"display:none;\">\n",
              "\n",
              "  <svg xmlns=\"http://www.w3.org/2000/svg\" height=\"24px\" viewBox=\"0 -960 960 960\">\n",
              "    <path d=\"M120-120v-720h720v720H120Zm60-500h600v-160H180v160Zm220 220h160v-160H400v160Zm0 220h160v-160H400v160ZM180-400h160v-160H180v160Zm440 0h160v-160H620v160ZM180-180h160v-160H180v160Zm440 0h160v-160H620v160Z\"/>\n",
              "  </svg>\n",
              "    </button>\n",
              "\n",
              "  <style>\n",
              "    .colab-df-container {\n",
              "      display:flex;\n",
              "      gap: 12px;\n",
              "    }\n",
              "\n",
              "    .colab-df-convert {\n",
              "      background-color: #E8F0FE;\n",
              "      border: none;\n",
              "      border-radius: 50%;\n",
              "      cursor: pointer;\n",
              "      display: none;\n",
              "      fill: #1967D2;\n",
              "      height: 32px;\n",
              "      padding: 0 0 0 0;\n",
              "      width: 32px;\n",
              "    }\n",
              "\n",
              "    .colab-df-convert:hover {\n",
              "      background-color: #E2EBFA;\n",
              "      box-shadow: 0px 1px 2px rgba(60, 64, 67, 0.3), 0px 1px 3px 1px rgba(60, 64, 67, 0.15);\n",
              "      fill: #174EA6;\n",
              "    }\n",
              "\n",
              "    .colab-df-buttons div {\n",
              "      margin-bottom: 4px;\n",
              "    }\n",
              "\n",
              "    [theme=dark] .colab-df-convert {\n",
              "      background-color: #3B4455;\n",
              "      fill: #D2E3FC;\n",
              "    }\n",
              "\n",
              "    [theme=dark] .colab-df-convert:hover {\n",
              "      background-color: #434B5C;\n",
              "      box-shadow: 0px 1px 3px 1px rgba(0, 0, 0, 0.15);\n",
              "      filter: drop-shadow(0px 1px 2px rgba(0, 0, 0, 0.3));\n",
              "      fill: #FFFFFF;\n",
              "    }\n",
              "  </style>\n",
              "\n",
              "    <script>\n",
              "      const buttonEl =\n",
              "        document.querySelector('#df-77a62a34-c34a-4159-bbfa-6836d3350ac7 button.colab-df-convert');\n",
              "      buttonEl.style.display =\n",
              "        google.colab.kernel.accessAllowed ? 'block' : 'none';\n",
              "\n",
              "      async function convertToInteractive(key) {\n",
              "        const element = document.querySelector('#df-77a62a34-c34a-4159-bbfa-6836d3350ac7');\n",
              "        const dataTable =\n",
              "          await google.colab.kernel.invokeFunction('convertToInteractive',\n",
              "                                                    [key], {});\n",
              "        if (!dataTable) return;\n",
              "\n",
              "        const docLinkHtml = 'Like what you see? Visit the ' +\n",
              "          '<a target=\"_blank\" href=https://colab.research.google.com/notebooks/data_table.ipynb>data table notebook</a>'\n",
              "          + ' to learn more about interactive tables.';\n",
              "        element.innerHTML = '';\n",
              "        dataTable['output_type'] = 'display_data';\n",
              "        await google.colab.output.renderOutput(dataTable, element);\n",
              "        const docLink = document.createElement('div');\n",
              "        docLink.innerHTML = docLinkHtml;\n",
              "        element.appendChild(docLink);\n",
              "      }\n",
              "    </script>\n",
              "  </div>\n",
              "\n",
              "\n",
              "<div id=\"df-564dc10e-cfb1-4947-92fc-483c97d162f8\">\n",
              "  <button class=\"colab-df-quickchart\" onclick=\"quickchart('df-564dc10e-cfb1-4947-92fc-483c97d162f8')\"\n",
              "            title=\"Suggest charts\"\n",
              "            style=\"display:none;\">\n",
              "\n",
              "<svg xmlns=\"http://www.w3.org/2000/svg\" height=\"24px\"viewBox=\"0 0 24 24\"\n",
              "     width=\"24px\">\n",
              "    <g>\n",
              "        <path d=\"M19 3H5c-1.1 0-2 .9-2 2v14c0 1.1.9 2 2 2h14c1.1 0 2-.9 2-2V5c0-1.1-.9-2-2-2zM9 17H7v-7h2v7zm4 0h-2V7h2v10zm4 0h-2v-4h2v4z\"/>\n",
              "    </g>\n",
              "</svg>\n",
              "  </button>\n",
              "\n",
              "<style>\n",
              "  .colab-df-quickchart {\n",
              "      --bg-color: #E8F0FE;\n",
              "      --fill-color: #1967D2;\n",
              "      --hover-bg-color: #E2EBFA;\n",
              "      --hover-fill-color: #174EA6;\n",
              "      --disabled-fill-color: #AAA;\n",
              "      --disabled-bg-color: #DDD;\n",
              "  }\n",
              "\n",
              "  [theme=dark] .colab-df-quickchart {\n",
              "      --bg-color: #3B4455;\n",
              "      --fill-color: #D2E3FC;\n",
              "      --hover-bg-color: #434B5C;\n",
              "      --hover-fill-color: #FFFFFF;\n",
              "      --disabled-bg-color: #3B4455;\n",
              "      --disabled-fill-color: #666;\n",
              "  }\n",
              "\n",
              "  .colab-df-quickchart {\n",
              "    background-color: var(--bg-color);\n",
              "    border: none;\n",
              "    border-radius: 50%;\n",
              "    cursor: pointer;\n",
              "    display: none;\n",
              "    fill: var(--fill-color);\n",
              "    height: 32px;\n",
              "    padding: 0;\n",
              "    width: 32px;\n",
              "  }\n",
              "\n",
              "  .colab-df-quickchart:hover {\n",
              "    background-color: var(--hover-bg-color);\n",
              "    box-shadow: 0 1px 2px rgba(60, 64, 67, 0.3), 0 1px 3px 1px rgba(60, 64, 67, 0.15);\n",
              "    fill: var(--button-hover-fill-color);\n",
              "  }\n",
              "\n",
              "  .colab-df-quickchart-complete:disabled,\n",
              "  .colab-df-quickchart-complete:disabled:hover {\n",
              "    background-color: var(--disabled-bg-color);\n",
              "    fill: var(--disabled-fill-color);\n",
              "    box-shadow: none;\n",
              "  }\n",
              "\n",
              "  .colab-df-spinner {\n",
              "    border: 2px solid var(--fill-color);\n",
              "    border-color: transparent;\n",
              "    border-bottom-color: var(--fill-color);\n",
              "    animation:\n",
              "      spin 1s steps(1) infinite;\n",
              "  }\n",
              "\n",
              "  @keyframes spin {\n",
              "    0% {\n",
              "      border-color: transparent;\n",
              "      border-bottom-color: var(--fill-color);\n",
              "      border-left-color: var(--fill-color);\n",
              "    }\n",
              "    20% {\n",
              "      border-color: transparent;\n",
              "      border-left-color: var(--fill-color);\n",
              "      border-top-color: var(--fill-color);\n",
              "    }\n",
              "    30% {\n",
              "      border-color: transparent;\n",
              "      border-left-color: var(--fill-color);\n",
              "      border-top-color: var(--fill-color);\n",
              "      border-right-color: var(--fill-color);\n",
              "    }\n",
              "    40% {\n",
              "      border-color: transparent;\n",
              "      border-right-color: var(--fill-color);\n",
              "      border-top-color: var(--fill-color);\n",
              "    }\n",
              "    60% {\n",
              "      border-color: transparent;\n",
              "      border-right-color: var(--fill-color);\n",
              "    }\n",
              "    80% {\n",
              "      border-color: transparent;\n",
              "      border-right-color: var(--fill-color);\n",
              "      border-bottom-color: var(--fill-color);\n",
              "    }\n",
              "    90% {\n",
              "      border-color: transparent;\n",
              "      border-bottom-color: var(--fill-color);\n",
              "    }\n",
              "  }\n",
              "</style>\n",
              "\n",
              "  <script>\n",
              "    async function quickchart(key) {\n",
              "      const quickchartButtonEl =\n",
              "        document.querySelector('#' + key + ' button');\n",
              "      quickchartButtonEl.disabled = true;  // To prevent multiple clicks.\n",
              "      quickchartButtonEl.classList.add('colab-df-spinner');\n",
              "      try {\n",
              "        const charts = await google.colab.kernel.invokeFunction(\n",
              "            'suggestCharts', [key], {});\n",
              "      } catch (error) {\n",
              "        console.error('Error during call to suggestCharts:', error);\n",
              "      }\n",
              "      quickchartButtonEl.classList.remove('colab-df-spinner');\n",
              "      quickchartButtonEl.classList.add('colab-df-quickchart-complete');\n",
              "    }\n",
              "    (() => {\n",
              "      let quickchartButtonEl =\n",
              "        document.querySelector('#df-564dc10e-cfb1-4947-92fc-483c97d162f8 button');\n",
              "      quickchartButtonEl.style.display =\n",
              "        google.colab.kernel.accessAllowed ? 'block' : 'none';\n",
              "    })();\n",
              "  </script>\n",
              "</div>\n",
              "\n",
              "    </div>\n",
              "  </div>\n"
            ],
            "application/vnd.google.colaboratory.intrinsic+json": {
              "type": "dataframe",
              "variable_name": "full_data",
              "summary": "{\n  \"name\": \"full_data\",\n  \"rows\": 5000,\n  \"fields\": [\n    {\n      \"column\": \"Avg. Area Income\",\n      \"properties\": {\n        \"dtype\": \"number\",\n        \"std\": 10657.99121383037,\n        \"min\": 17796.631189543397,\n        \"max\": 107701.74837763936,\n        \"num_unique_values\": 5000,\n        \"samples\": [\n          61907.59334528668,\n          57160.20224330715,\n          70190.79644494488\n        ],\n        \"semantic_type\": \"\",\n        \"description\": \"\"\n      }\n    },\n    {\n      \"column\": \"Avg. Area House Age\",\n      \"properties\": {\n        \"dtype\": \"number\",\n        \"std\": 0.9914561798281721,\n        \"min\": 2.644304186036705,\n        \"max\": 9.51908806613594,\n        \"num_unique_values\": 5000,\n        \"samples\": [\n          7.017837824742983,\n          6.893260095195835,\n          6.745053761849909\n        ],\n        \"semantic_type\": \"\",\n        \"description\": \"\"\n      }\n    },\n    {\n      \"column\": \"Avg. Area Number of Rooms\",\n      \"properties\": {\n        \"dtype\": \"number\",\n        \"std\": 1.0058332312773866,\n        \"min\": 3.2361940234262048,\n        \"max\": 10.759588335938624,\n        \"num_unique_values\": 5000,\n        \"samples\": [\n          6.440255754985625,\n          6.921532164642504,\n          6.6625667327280365\n        ],\n        \"semantic_type\": \"\",\n        \"description\": \"\"\n      }\n    },\n    {\n      \"column\": \"Avg. Area Number of Bedrooms\",\n      \"properties\": {\n        \"dtype\": \"number\",\n        \"std\": 1.2341372654846832,\n        \"min\": 2.0,\n        \"max\": 6.5,\n        \"num_unique_values\": 255,\n        \"samples\": [\n          3.5,\n          3.41,\n          3.33\n        ],\n        \"semantic_type\": \"\",\n        \"description\": \"\"\n      }\n    },\n    {\n      \"column\": \"Area Population\",\n      \"properties\": {\n        \"dtype\": \"number\",\n        \"std\": 9925.650113501235,\n        \"min\": 172.61068627290044,\n        \"max\": 69621.7133777904,\n        \"num_unique_values\": 5000,\n        \"samples\": [\n          43828.947207425765,\n          43467.14703549413,\n          29215.13611183857\n        ],\n        \"semantic_type\": \"\",\n        \"description\": \"\"\n      }\n    },\n    {\n      \"column\": \"Price\",\n      \"properties\": {\n        \"dtype\": \"number\",\n        \"std\": 353117.62658106093,\n        \"min\": 15938.657923287848,\n        \"max\": 2469065.5941747027,\n        \"num_unique_values\": 5000,\n        \"samples\": [\n          1339096.0772451318,\n          1251794.178836864,\n          1340094.9662054193\n        ],\n        \"semantic_type\": \"\",\n        \"description\": \"\"\n      }\n    },\n    {\n      \"column\": \"Address\",\n      \"properties\": {\n        \"dtype\": \"string\",\n        \"num_unique_values\": 5000,\n        \"samples\": [\n          \"7521 Gregory Meadows\\nEast Johntown, CO 93230-5255\",\n          \"15828 Marshall Stravenue Suite 199\\nEast Matthewmouth, TN 71861-6319\",\n          \"USNS Brandt\\nFPO AE 72594\"\n        ],\n        \"semantic_type\": \"\",\n        \"description\": \"\"\n      }\n    }\n  ]\n}"
            }
          },
          "metadata": {},
          "execution_count": 2
        }
      ]
    },
    {
      "cell_type": "code",
      "source": [
        "# Data Info\n",
        "full_data.info()"
      ],
      "metadata": {
        "colab": {
          "base_uri": "https://localhost:8080/"
        },
        "id": "1sPiP5GLPJJo",
        "outputId": "872b0240-544b-4d60-bc03-ebd5ac1cafa9"
      },
      "execution_count": 3,
      "outputs": [
        {
          "output_type": "stream",
          "name": "stdout",
          "text": [
            "<class 'pandas.core.frame.DataFrame'>\n",
            "RangeIndex: 5000 entries, 0 to 4999\n",
            "Data columns (total 7 columns):\n",
            " #   Column                        Non-Null Count  Dtype  \n",
            "---  ------                        --------------  -----  \n",
            " 0   Avg. Area Income              5000 non-null   float64\n",
            " 1   Avg. Area House Age           5000 non-null   float64\n",
            " 2   Avg. Area Number of Rooms     5000 non-null   float64\n",
            " 3   Avg. Area Number of Bedrooms  5000 non-null   float64\n",
            " 4   Area Population               5000 non-null   float64\n",
            " 5   Price                         5000 non-null   float64\n",
            " 6   Address                       5000 non-null   object \n",
            "dtypes: float64(6), object(1)\n",
            "memory usage: 273.6+ KB\n"
          ]
        }
      ]
    },
    {
      "cell_type": "markdown",
      "source": [
        "**Missing Data**  \n",
        " A heatmap will help better visualize what features as missing the most information."
      ],
      "metadata": {
        "id": "G6vR1hqbRhDo"
      }
    },
    {
      "cell_type": "code",
      "source": [
        "#Missing Data\n",
        "sns.heatmap(full_data.isnull(),yticklabels=False,cbar=False,cmap='tab20c_r')\n",
        "plt.title('Missing Data : Training Set')\n",
        "plt.show()"
      ],
      "metadata": {
        "colab": {
          "base_uri": "https://localhost:8080/",
          "height": 541
        },
        "id": "y713D4XmPJG7",
        "outputId": "7455bbbc-c445-44dc-837f-6cdd66786bee"
      },
      "execution_count": 4,
      "outputs": [
        {
          "output_type": "display_data",
          "data": {
            "text/plain": [
              "<Figure size 1000x500 with 1 Axes>"
            ],
            "image/png": "[encoded data removed]"
          },
          "metadata": {}
        }
      ]
    },
    {
      "cell_type": "code",
      "source": [
        "#Remove Address feature\n",
        "full_data.drop('Address', axis=1, inplace=True)"
      ],
      "metadata": {
        "id": "4zeeGAZ1PJEG"
      },
      "execution_count": 5,
      "outputs": []
    },
    {
      "cell_type": "code",
      "source": [
        "#Remove rows with missing data\n",
        "full_data.dropna(inplace=True)"
      ],
      "metadata": {
        "id": "xOv9oWcpPJBN"
      },
      "execution_count": 6,
      "outputs": []
    },
    {
      "cell_type": "code",
      "source": [
        "full_data.info()"
      ],
      "metadata": {
        "colab": {
          "base_uri": "https://localhost:8080/"
        },
        "id": "q1rUSOaNPI-L",
        "outputId": "c6bb2549-5c84-4454-d97b-055c769cbbd3"
      },
      "execution_count": 7,
      "outputs": [
        {
          "output_type": "stream",
          "name": "stdout",
          "text": [
            "<class 'pandas.core.frame.DataFrame'>\n",
            "RangeIndex: 5000 entries, 0 to 4999\n",
            "Data columns (total 6 columns):\n",
            " #   Column                        Non-Null Count  Dtype  \n",
            "---  ------                        --------------  -----  \n",
            " 0   Avg. Area Income              5000 non-null   float64\n",
            " 1   Avg. Area House Age           5000 non-null   float64\n",
            " 2   Avg. Area Number of Rooms     5000 non-null   float64\n",
            " 3   Avg. Area Number of Bedrooms  5000 non-null   float64\n",
            " 4   Area Population               5000 non-null   float64\n",
            " 5   Price                         5000 non-null   float64\n",
            "dtypes: float64(6)\n",
            "memory usage: 234.5 KB\n"
          ]
        }
      ]
    },
    {
      "cell_type": "code",
      "source": [
        "#Numeric Summar Features\n",
        "full_data.describe()"
      ],
      "metadata": {
        "colab": {
          "base_uri": "https://localhost:8080/",
          "height": 355
        },
        "id": "LQMGJFtMPI61",
        "outputId": "567c884f-ba96-4f1b-c066-9ec890e9ede7"
      },
      "execution_count": 8,
      "outputs": [
        {
          "output_type": "execute_result",
          "data": {
            "text/plain": [
              "       Avg. Area Income  Avg. Area House Age  Avg. Area Number of Rooms  \\\n",
              "count       5000.000000          5000.000000                5000.000000   \n",
              "mean       68583.108984             5.977222                   6.987792   \n",
              "std        10657.991214             0.991456                   1.005833   \n",
              "min        17796.631190             2.644304                   3.236194   \n",
              "25%        61480.562388             5.322283                   6.299250   \n",
              "50%        68804.286404             5.970429                   7.002902   \n",
              "75%        75783.338666             6.650808                   7.665871   \n",
              "max       107701.748378             9.519088                  10.759588   \n",
              "\n",
              "       Avg. Area Number of Bedrooms  Area Population         Price  \n",
              "count                   5000.000000      5000.000000  5.000000e+03  \n",
              "mean                       3.981330     36163.516039  1.232073e+06  \n",
              "std                        1.234137      9925.650114  3.531176e+05  \n",
              "min                        2.000000       172.610686  1.593866e+04  \n",
              "25%                        3.140000     29403.928702  9.975771e+05  \n",
              "50%                        4.050000     36199.406689  1.232669e+06  \n",
              "75%                        4.490000     42861.290769  1.471210e+06  \n",
              "max                        6.500000     69621.713378  2.469066e+06  "
            ],
            "text/html": [
              "\n",
              "  <div id=\"df-22435f24-ce6f-4694-b4ad-60df0d91134c\" class=\"colab-df-container\">\n",
              "    <div>\n",
              "<style scoped>\n",
              "    .dataframe tbody tr th:only-of-type {\n",
              "        vertical-align: middle;\n",
              "    }\n",
              "\n",
              "    .dataframe tbody tr th {\n",
              "        vertical-align: top;\n",
              "    }\n",
              "\n",
              "    .dataframe thead th {\n",
              "        text-align: right;\n",
              "    }\n",
              "</style>\n",
              "<table border=\"1\" class=\"dataframe\">\n",
              "  <thead>\n",
              "    <tr style=\"text-align: right;\">\n",
              "      <th></th>\n",
              "      <th>Avg. Area Income</th>\n",
              "      <th>Avg. Area House Age</th>\n",
              "      <th>Avg. Area Number of Rooms</th>\n",
              "      <th>Avg. Area Number of Bedrooms</th>\n",
              "      <th>Area Population</th>\n",
              "      <th>Price</th>\n",
              "    </tr>\n",
              "  </thead>\n",
              "  <tbody>\n",
              "    <tr>\n",
              "      <th>count</th>\n",
              "      <td>5000.000000</td>\n",
              "      <td>5000.000000</td>\n",
              "      <td>5000.000000</td>\n",
              "      <td>5000.000000</td>\n",
              "      <td>5000.000000</td>\n",
              "      <td>5.000000e+03</td>\n",
              "    </tr>\n",
              "    <tr>\n",
              "      <th>mean</th>\n",
              "      <td>68583.108984</td>\n",
              "      <td>5.977222</td>\n",
              "      <td>6.987792</td>\n",
              "      <td>3.981330</td>\n",
              "      <td>36163.516039</td>\n",
              "      <td>1.232073e+06</td>\n",
              "    </tr>\n",
              "    <tr>\n",
              "      <th>std</th>\n",
              "      <td>10657.991214</td>\n",
              "      <td>0.991456</td>\n",
              "      <td>1.005833</td>\n",
              "      <td>1.234137</td>\n",
              "      <td>9925.650114</td>\n",
              "      <td>3.531176e+05</td>\n",
              "    </tr>\n",
              "    <tr>\n",
              "      <th>min</th>\n",
              "      <td>17796.631190</td>\n",
              "      <td>2.644304</td>\n",
              "      <td>3.236194</td>\n",
              "      <td>2.000000</td>\n",
              "      <td>172.610686</td>\n",
              "      <td>1.593866e+04</td>\n",
              "    </tr>\n",
              "    <tr>\n",
              "      <th>25%</th>\n",
              "      <td>61480.562388</td>\n",
              "      <td>5.322283</td>\n",
              "      <td>6.299250</td>\n",
              "      <td>3.140000</td>\n",
              "      <td>29403.928702</td>\n",
              "      <td>9.975771e+05</td>\n",
              "    </tr>\n",
              "    <tr>\n",
              "      <th>50%</th>\n",
              "      <td>68804.286404</td>\n",
              "      <td>5.970429</td>\n",
              "      <td>7.002902</td>\n",
              "      <td>4.050000</td>\n",
              "      <td>36199.406689</td>\n",
              "      <td>1.232669e+06</td>\n",
              "    </tr>\n",
              "    <tr>\n",
              "      <th>75%</th>\n",
              "      <td>75783.338666</td>\n",
              "      <td>6.650808</td>\n",
              "      <td>7.665871</td>\n",
              "      <td>4.490000</td>\n",
              "      <td>42861.290769</td>\n",
              "      <td>1.471210e+06</td>\n",
              "    </tr>\n",
              "    <tr>\n",
              "      <th>max</th>\n",
              "      <td>107701.748378</td>\n",
              "      <td>9.519088</td>\n",
              "      <td>10.759588</td>\n",
              "      <td>6.500000</td>\n",
              "      <td>69621.713378</td>\n",
              "      <td>2.469066e+06</td>\n",
              "    </tr>\n",
              "  </tbody>\n",
              "</table>\n",
              "</div>\n",
              "    <div class=\"colab-df-buttons\">\n",
              "\n",
              "  <div class=\"colab-df-container\">\n",
              "    <button class=\"colab-df-convert\" onclick=\"convertToInteractive('df-22435f24-ce6f-4694-b4ad-60df0d91134c')\"\n",
              "            title=\"Convert this dataframe to an interactive table.\"\n",
              "            style=\"display:none;\">\n",
              "\n",
              "  <svg xmlns=\"http://www.w3.org/2000/svg\" height=\"24px\" viewBox=\"0 -960 960 960\">\n",
              "    <path d=\"M120-120v-720h720v720H120Zm60-500h600v-160H180v160Zm220 220h160v-160H400v160Zm0 220h160v-160H400v160ZM180-400h160v-160H180v160Zm440 0h160v-160H620v160ZM180-180h160v-160H180v160Zm440 0h160v-160H620v160Z\"/>\n",
              "  </svg>\n",
              "    </button>\n",
              "\n",
              "  <style>\n",
              "    .colab-df-container {\n",
              "      display:flex;\n",
              "      gap: 12px;\n",
              "    }\n",
              "\n",
              "    .colab-df-convert {\n",
              "      background-color: #E8F0FE;\n",
              "      border: none;\n",
              "      border-radius: 50%;\n",
              "      cursor: pointer;\n",
              "      display: none;\n",
              "      fill: #1967D2;\n",
              "      height: 32px;\n",
              "      padding: 0 0 0 0;\n",
              "      width: 32px;\n",
              "    }\n",
              "\n",
              "    .colab-df-convert:hover {\n",
              "      background-color: #E2EBFA;\n",
              "      box-shadow: 0px 1px 2px rgba(60, 64, 67, 0.3), 0px 1px 3px 1px rgba(60, 64, 67, 0.15);\n",
              "      fill: #174EA6;\n",
              "    }\n",
              "\n",
              "    .colab-df-buttons div {\n",
              "      margin-bottom: 4px;\n",
              "    }\n",
              "\n",
              "    [theme=dark] .colab-df-convert {\n",
              "      background-color: #3B4455;\n",
              "      fill: #D2E3FC;\n",
              "    }\n",
              "\n",
              "    [theme=dark] .colab-df-convert:hover {\n",
              "      background-color: #434B5C;\n",
              "      box-shadow: 0px 1px 3px 1px rgba(0, 0, 0, 0.15);\n",
              "      filter: drop-shadow(0px 1px 2px rgba(0, 0, 0, 0.3));\n",
              "      fill: #FFFFFF;\n",
              "    }\n",
              "  </style>\n",
              "\n",
              "    <script>\n",
              "      const buttonEl =\n",
              "        document.querySelector('#df-22435f24-ce6f-4694-b4ad-60df0d91134c button.colab-df-convert');\n",
              "      buttonEl.style.display =\n",
              "        google.colab.kernel.accessAllowed ? 'block' : 'none';\n",
              "\n",
              "      async function convertToInteractive(key) {\n",
              "        const element = document.querySelector('#df-22435f24-ce6f-4694-b4ad-60df0d91134c');\n",
              "        const dataTable =\n",
              "          await google.colab.kernel.invokeFunction('convertToInteractive',\n",
              "                                                    [key], {});\n",
              "        if (!dataTable) return;\n",
              "\n",
              "        const docLinkHtml = 'Like what you see? Visit the ' +\n",
              "          '<a target=\"_blank\" href=https://colab.research.google.com/notebooks/data_table.ipynb>data table notebook</a>'\n",
              "          + ' to learn more about interactive tables.';\n",
              "        element.innerHTML = '';\n",
              "        dataTable['output_type'] = 'display_data';\n",
              "        await google.colab.output.renderOutput(dataTable, element);\n",
              "        const docLink = document.createElement('div');\n",
              "        docLink.innerHTML = docLinkHtml;\n",
              "        element.appendChild(docLink);\n",
              "      }\n",
              "    </script>\n",
              "  </div>\n",
              "\n",
              "\n",
              "<div id=\"df-3e13b022-7deb-4fe2-ae4c-e2c1035d4f52\">\n",
              "  <button class=\"colab-df-quickchart\" onclick=\"quickchart('df-3e13b022-7deb-4fe2-ae4c-e2c1035d4f52')\"\n",
              "            title=\"Suggest charts\"\n",
              "            style=\"display:none;\">\n",
              "\n",
              "<svg xmlns=\"http://www.w3.org/2000/svg\" height=\"24px\"viewBox=\"0 0 24 24\"\n",
              "     width=\"24px\">\n",
              "    <g>\n",
              "        <path d=\"M19 3H5c-1.1 0-2 .9-2 2v14c0 1.1.9 2 2 2h14c1.1 0 2-.9 2-2V5c0-1.1-.9-2-2-2zM9 17H7v-7h2v7zm4 0h-2V7h2v10zm4 0h-2v-4h2v4z\"/>\n",
              "    </g>\n",
              "</svg>\n",
              "  </button>\n",
              "\n",
              "<style>\n",
              "  .colab-df-quickchart {\n",
              "      --bg-color: #E8F0FE;\n",
              "      --fill-color: #1967D2;\n",
              "      --hover-bg-color: #E2EBFA;\n",
              "      --hover-fill-color: #174EA6;\n",
              "      --disabled-fill-color: #AAA;\n",
              "      --disabled-bg-color: #DDD;\n",
              "  }\n",
              "\n",
              "  [theme=dark] .colab-df-quickchart {\n",
              "      --bg-color: #3B4455;\n",
              "      --fill-color: #D2E3FC;\n",
              "      --hover-bg-color: #434B5C;\n",
              "      --hover-fill-color: #FFFFFF;\n",
              "      --disabled-bg-color: #3B4455;\n",
              "      --disabled-fill-color: #666;\n",
              "  }\n",
              "\n",
              "  .colab-df-quickchart {\n",
              "    background-color: var(--bg-color);\n",
              "    border: none;\n",
              "    border-radius: 50%;\n",
              "    cursor: pointer;\n",
              "    display: none;\n",
              "    fill: var(--fill-color);\n",
              "    height: 32px;\n",
              "    padding: 0;\n",
              "    width: 32px;\n",
              "  }\n",
              "\n",
              "  .colab-df-quickchart:hover {\n",
              "    background-color: var(--hover-bg-color);\n",
              "    box-shadow: 0 1px 2px rgba(60, 64, 67, 0.3), 0 1px 3px 1px rgba(60, 64, 67, 0.15);\n",
              "    fill: var(--button-hover-fill-color);\n",
              "  }\n",
              "\n",
              "  .colab-df-quickchart-complete:disabled,\n",
              "  .colab-df-quickchart-complete:disabled:hover {\n",
              "    background-color: var(--disabled-bg-color);\n",
              "    fill: var(--disabled-fill-color);\n",
              "    box-shadow: none;\n",
              "  }\n",
              "\n",
              "  .colab-df-spinner {\n",
              "    border: 2px solid var(--fill-color);\n",
              "    border-color: transparent;\n",
              "    border-bottom-color: var(--fill-color);\n",
              "    animation:\n",
              "      spin 1s steps(1) infinite;\n",
              "  }\n",
              "\n",
              "  @keyframes spin {\n",
              "    0% {\n",
              "      border-color: transparent;\n",
              "      border-bottom-color: var(--fill-color);\n",
              "      border-left-color: var(--fill-color);\n",
              "    }\n",
              "    20% {\n",
              "      border-color: transparent;\n",
              "      border-left-color: var(--fill-color);\n",
              "      border-top-color: var(--fill-color);\n",
              "    }\n",
              "    30% {\n",
              "      border-color: transparent;\n",
              "      border-left-color: var(--fill-color);\n",
              "      border-top-color: var(--fill-color);\n",
              "      border-right-color: var(--fill-color);\n",
              "    }\n",
              "    40% {\n",
              "      border-color: transparent;\n",
              "      border-right-color: var(--fill-color);\n",
              "      border-top-color: var(--fill-color);\n",
              "    }\n",
              "    60% {\n",
              "      border-color: transparent;\n",
              "      border-right-color: var(--fill-color);\n",
              "    }\n",
              "    80% {\n",
              "      border-color: transparent;\n",
              "      border-right-color: var(--fill-color);\n",
              "      border-bottom-color: var(--fill-color);\n",
              "    }\n",
              "    90% {\n",
              "      border-color: transparent;\n",
              "      border-bottom-color: var(--fill-color);\n",
              "    }\n",
              "  }\n",
              "</style>\n",
              "\n",
              "  <script>\n",
              "    async function quickchart(key) {\n",
              "      const quickchartButtonEl =\n",
              "        document.querySelector('#' + key + ' button');\n",
              "      quickchartButtonEl.disabled = true;  // To prevent multiple clicks.\n",
              "      quickchartButtonEl.classList.add('colab-df-spinner');\n",
              "      try {\n",
              "        const charts = await google.colab.kernel.invokeFunction(\n",
              "            'suggestCharts', [key], {});\n",
              "      } catch (error) {\n",
              "        console.error('Error during call to suggestCharts:', error);\n",
              "      }\n",
              "      quickchartButtonEl.classList.remove('colab-df-spinner');\n",
              "      quickchartButtonEl.classList.add('colab-df-quickchart-complete');\n",
              "    }\n",
              "    (() => {\n",
              "      let quickchartButtonEl =\n",
              "        document.querySelector('#df-3e13b022-7deb-4fe2-ae4c-e2c1035d4f52 button');\n",
              "      quickchartButtonEl.style.display =\n",
              "        google.colab.kernel.accessAllowed ? 'block' : 'none';\n",
              "    })();\n",
              "  </script>\n",
              "</div>\n",
              "\n",
              "    </div>\n",
              "  </div>\n"
            ],
            "application/vnd.google.colaboratory.intrinsic+json": {
              "type": "dataframe",
              "summary": "{\n  \"name\": \"full_data\",\n  \"rows\": 8,\n  \"fields\": [\n    {\n      \"column\": \"Avg. Area Income\",\n      \"properties\": {\n        \"dtype\": \"number\",\n        \"std\": 36652.078645440684,\n        \"min\": 5000.0,\n        \"max\": 107701.74837763936,\n        \"num_unique_values\": 8,\n        \"samples\": [\n          68583.10898395974,\n          68804.28640371616,\n          5000.0\n        ],\n        \"semantic_type\": \"\",\n        \"description\": \"\"\n      }\n    },\n    {\n      \"column\": \"Avg. Area House Age\",\n      \"properties\": {\n        \"dtype\": \"number\",\n        \"std\": 1765.8962195665245,\n        \"min\": 0.9914561798281721,\n        \"max\": 5000.0,\n        \"num_unique_values\": 8,\n        \"samples\": [\n          5.977222035280273,\n          5.970428947124802,\n          5000.0\n        ],\n        \"semantic_type\": \"\",\n        \"description\": \"\"\n      }\n    },\n    {\n      \"column\": \"Avg. Area Number of Rooms\",\n      \"properties\": {\n        \"dtype\": \"number\",\n        \"std\": 1765.5997003475702,\n        \"min\": 1.0058332312773866,\n        \"max\": 5000.0,\n        \"num_unique_values\": 8,\n        \"samples\": [\n          6.987791850907944,\n          7.002901987201934,\n          5000.0\n        ],\n        \"semantic_type\": \"\",\n        \"description\": \"\"\n      }\n    },\n    {\n      \"column\": \"Avg. Area Number of Bedrooms\",\n      \"properties\": {\n        \"dtype\": \"number\",\n        \"std\": 1766.4850125109951,\n        \"min\": 1.2341372654846832,\n        \"max\": 5000.0,\n        \"num_unique_values\": 8,\n        \"samples\": [\n          3.9813300000000003,\n          4.05,\n          5000.0\n        ],\n        \"semantic_type\": \"\",\n        \"description\": \"\"\n      }\n    },\n    {\n      \"column\": \"Area Population\",\n      \"properties\": {\n        \"dtype\": \"number\",\n        \"std\": 23038.9102359755,\n        \"min\": 172.61068627290044,\n        \"max\": 69621.7133777904,\n        \"num_unique_values\": 8,\n        \"samples\": [\n          36163.51603857466,\n          36199.406689260555,\n          5000.0\n        ],\n        \"semantic_type\": \"\",\n        \"description\": \"\"\n      }\n    },\n    {\n      \"column\": \"Price\",\n      \"properties\": {\n        \"dtype\": \"number\",\n        \"std\": 833136.4448409891,\n        \"min\": 5000.0,\n        \"max\": 2469065.5941747027,\n        \"num_unique_values\": 8,\n        \"samples\": [\n          1232072.654142357,\n          1232669.3779657914,\n          5000.0\n        ],\n        \"semantic_type\": \"\",\n        \"description\": \"\"\n      }\n    }\n  ]\n}"
            }
          },
          "metadata": {},
          "execution_count": 8
        }
      ]
    },
    {
      "cell_type": "markdown",
      "source": [
        "# **2. GETTING MODEL READY**\n",
        "\n",
        "Now that we've explored the data, it is time to get these features 'model ready'. Categorial features will need to be converted into 'dummy variables', otherwise a machine learning algorithm will not be able to take in those features as inputs."
      ],
      "metadata": {
        "id": "46bP-zfjZwVt"
      }
    },
    {
      "cell_type": "code",
      "source": [
        "# Shape of train data\n",
        "full_data.shape"
      ],
      "metadata": {
        "colab": {
          "base_uri": "https://localhost:8080/"
        },
        "id": "BLD7TA66PI4X",
        "outputId": "aaa5b4eb-6b58-4184-c95f-2d3c489dad6d"
      },
      "execution_count": 9,
      "outputs": [
        {
          "output_type": "execute_result",
          "data": {
            "text/plain": [
              "(5000, 6)"
            ]
          },
          "metadata": {},
          "execution_count": 9
        }
      ]
    },
    {
      "cell_type": "markdown",
      "source": [
        "Now the train data is prefect for a machine learning algorithm:\n",
        "*   All the data is numeric\n",
        "*   Everything is concatenated togather"
      ],
      "metadata": {
        "id": "ErXTpHa_aTEh"
      }
    },
    {
      "cell_type": "markdown",
      "source": [
        "# **3. OBJECTIVE 2: MACHINE LEARNING**\n",
        "Next, I will feed these features into various classification algorithms to determine the best performance using a simple framework: **Split, Fit, Predict, Score It.**"
      ],
      "metadata": {
        "id": "C-7paXCSaj8n"
      }
    },
    {
      "cell_type": "markdown",
      "source": [
        "## **Target Variable Splitting**\n",
        "We will spilt the Full dataset into **Input** and **target** variables\n",
        "\n",
        "Input is also called **Feature Variables**\n",
        "Output referes to Target **variables**"
      ],
      "metadata": {
        "id": "6lIIWUCAauBI"
      }
    },
    {
      "cell_type": "code",
      "source": [
        "# Split data to be used in the models\n",
        "# Create matrix of features\n",
        "x = full_data.drop('Price', axis = 1) #grabs everything else but 'Price'\n",
        "\n",
        "# Create target variable\n",
        "y = full_data['Price'] #y is the column we're trying to predict"
      ],
      "metadata": {
        "id": "z27a5DcMPI1u"
      },
      "execution_count": 10,
      "outputs": []
    },
    {
      "cell_type": "markdown",
      "source": [
        "# **Data Preprocessing**"
      ],
      "metadata": {
        "id": "D7WG5YH-bLvU"
      }
    },
    {
      "cell_type": "code",
      "source": [
        "from sklearn import preprocessing\n",
        "x_pre_process = preprocessing.StandardScaler().fit(x)\n",
        "x_pre_process"
      ],
      "metadata": {
        "colab": {
          "base_uri": "https://localhost:8080/",
          "height": 75
        },
        "id": "sd9SRISXPIy5",
        "outputId": "45099d30-5749-435a-bfd4-bcc8ba5c44f1"
      },
      "execution_count": 14,
      "outputs": [
        {
          "output_type": "execute_result",
          "data": {
            "text/plain": [
              "StandardScaler()"
            ],
            "text/html": [
              "<style>#sk-container-id-2 {color: black;background-color: white;}#sk-container-id-2 pre{padding: 0;}#sk-container-id-2 div.sk-toggleable {background-color: white;}#sk-container-id-2 label.sk-toggleable__label {cursor: pointer;display: block;width: 100%;margin-bottom: 0;padding: 0.3em;box-sizing: border-box;text-align: center;}#sk-container-id-2 label.sk-toggleable__label-arrow:before {content: \"▸\";float: left;margin-right: 0.25em;color: #696969;}#sk-container-id-2 label.sk-toggleable__label-arrow:hover:before {color: black;}#sk-container-id-2 div.sk-estimator:hover label.sk-toggleable__label-arrow:before {color: black;}#sk-container-id-2 div.sk-toggleable__content {max-height: 0;max-width: 0;overflow: hidden;text-align: left;background-color: #f0f8ff;}#sk-container-id-2 div.sk-toggleable__content pre {margin: 0.2em;color: black;border-radius: 0.25em;background-color: #f0f8ff;}#sk-container-id-2 input.sk-toggleable__control:checked~div.sk-toggleable__content {max-height: 200px;max-width: 100%;overflow: auto;}#sk-container-id-2 input.sk-toggleable__control:checked~label.sk-toggleable__label-arrow:before {content: \"▾\";}#sk-container-id-2 div.sk-estimator input.sk-toggleable__control:checked~label.sk-toggleable__label {background-color: #d4ebff;}#sk-container-id-2 div.sk-label input.sk-toggleable__control:checked~label.sk-toggleable__label {background-color: #d4ebff;}#sk-container-id-2 input.sk-hidden--visually {border: 0;clip: rect(1px 1px 1px 1px);clip: rect(1px, 1px, 1px, 1px);height: 1px;margin: -1px;overflow: hidden;padding: 0;position: absolute;width: 1px;}#sk-container-id-2 div.sk-estimator {font-family: monospace;background-color: #f0f8ff;border: 1px dotted black;border-radius: 0.25em;box-sizing: border-box;margin-bottom: 0.5em;}#sk-container-id-2 div.sk-estimator:hover {background-color: #d4ebff;}#sk-container-id-2 div.sk-parallel-item::after {content: \"\";width: 100%;border-bottom: 1px solid gray;flex-grow: 1;}#sk-container-id-2 div.sk-label:hover label.sk-toggleable__label {background-color: #d4ebff;}#sk-container-id-2 div.sk-serial::before {content: \"\";position: absolute;border-left: 1px solid gray;box-sizing: border-box;top: 0;bottom: 0;left: 50%;z-index: 0;}#sk-container-id-2 div.sk-serial {display: flex;flex-direction: column;align-items: center;background-color: white;padding-right: 0.2em;padding-left: 0.2em;position: relative;}#sk-container-id-2 div.sk-item {position: relative;z-index: 1;}#sk-container-id-2 div.sk-parallel {display: flex;align-items: stretch;justify-content: center;background-color: white;position: relative;}#sk-container-id-2 div.sk-item::before, #sk-container-id-2 div.sk-parallel-item::before {content: \"\";position: absolute;border-left: 1px solid gray;box-sizing: border-box;top: 0;bottom: 0;left: 50%;z-index: -1;}#sk-container-id-2 div.sk-parallel-item {display: flex;flex-direction: column;z-index: 1;position: relative;background-color: white;}#sk-container-id-2 div.sk-parallel-item:first-child::after {align-self: flex-end;width: 50%;}#sk-container-id-2 div.sk-parallel-item:last-child::after {align-self: flex-start;width: 50%;}#sk-container-id-2 div.sk-parallel-item:only-child::after {width: 0;}#sk-container-id-2 div.sk-dashed-wrapped {border: 1px dashed gray;margin: 0 0.4em 0.5em 0.4em;box-sizing: border-box;padding-bottom: 0.4em;background-color: white;}#sk-container-id-2 div.sk-label label {font-family: monospace;font-weight: bold;display: inline-block;line-height: 1.2em;}#sk-container-id-2 div.sk-label-container {text-align: center;}#sk-container-id-2 div.sk-container {/* jupyter's `normalize.less` sets `[hidden] { display: none; }` but bootstrap.min.css set `[hidden] { display: none !important; }` so we also need the `!important` here to be able to override the default hidden behavior on the sphinx rendered scikit-learn.org. See: https://github.com/scikit-learn/scikit-learn/issues/21755 */display: inline-block !important;position: relative;}#sk-container-id-2 div.sk-text-repr-fallback {display: none;}</style><div id=\"sk-container-id-2\" class=\"sk-top-container\"><div class=\"sk-text-repr-fallback\"><pre>StandardScaler()</pre><b>In a Jupyter environment, please rerun this cell to show the HTML representation or trust the notebook. <br />On GitHub, the HTML representation is unable to render, please try loading this page with nbviewer.org.</b></div><div class=\"sk-container\" hidden><div class=\"sk-item\"><div class=\"sk-estimator sk-toggleable\"><input class=\"sk-toggleable__control sk-hidden--visually\" id=\"sk-estimator-id-2\" type=\"checkbox\" checked><label for=\"sk-estimator-id-2\" class=\"sk-toggleable__label sk-toggleable__label-arrow\">StandardScaler</label><div class=\"sk-toggleable__content\"><pre>StandardScaler()</pre></div></div></div></div></div>"
            ]
          },
          "metadata": {},
          "execution_count": 14
        }
      ]
    },
    {
      "cell_type": "code",
      "source": [
        "#transofr the input data\n",
        "x_transform = x_pre_process.transform(x)\n",
        "x_transform"
      ],
      "metadata": {
        "colab": {
          "base_uri": "https://localhost:8080/"
        },
        "id": "LPd7vhfRPIwJ",
        "outputId": "0af43dc0-0ee4-45de-9d95-061e22bf6146"
      },
      "execution_count": 15,
      "outputs": [
        {
          "output_type": "execute_result",
          "data": {
            "text/plain": [
              "array([[ 1.02865969, -0.29692705,  0.02127433,  0.08806222, -1.31759867],\n",
              "       [ 1.00080775,  0.02590164, -0.25550611, -0.72230146,  0.40399945],\n",
              "       [-0.68462916, -0.11230283,  1.5162435 ,  0.93084045,  0.07240989],\n",
              "       ...,\n",
              "       [-0.48723454,  1.28447022, -2.17026949, -1.50025059, -0.29193658],\n",
              "       [-0.05459152, -0.44669439,  0.14154061,  1.18205319,  0.65111608],\n",
              "       [-0.28831272,  0.01521477, -0.19434166,  0.07185495,  1.04162464]])"
            ]
          },
          "metadata": {},
          "execution_count": 15
        }
      ]
    },
    {
      "cell_type": "code",
      "source": [
        "print(x_transform.shape)"
      ],
      "metadata": {
        "colab": {
          "base_uri": "https://localhost:8080/"
        },
        "id": "S82RqdloPItN",
        "outputId": "f6dfd9c3-f2e9-48ea-e4e3-fde9e23caae0"
      },
      "execution_count": 17,
      "outputs": [
        {
          "output_type": "stream",
          "name": "stdout",
          "text": [
            "(5000, 5)\n"
          ]
        }
      ]
    },
    {
      "cell_type": "code",
      "source": [
        "#Shape of y\n",
        "print(y.shape)\n",
        "y.head()"
      ],
      "metadata": {
        "colab": {
          "base_uri": "https://localhost:8080/"
        },
        "id": "Cnux0F0WPIqV",
        "outputId": "9e5176d7-3fad-41b7-995b-58b956c27d25"
      },
      "execution_count": 36,
      "outputs": [
        {
          "output_type": "stream",
          "name": "stdout",
          "text": [
            "(5000,)\n"
          ]
        },
        {
          "output_type": "execute_result",
          "data": {
            "text/plain": [
              "0    1.059034e+06\n",
              "1    1.505891e+06\n",
              "2    1.058988e+06\n",
              "3    1.260617e+06\n",
              "4    6.309435e+05\n",
              "Name: Price, dtype: float64"
            ]
          },
          "metadata": {},
          "execution_count": 36
        }
      ]
    },
    {
      "cell_type": "code",
      "source": [
        "# Use x and y variable to split the training data into train and test set\n",
        "from sklearn.model_selection import train_test_split\n",
        "x_train, x_test, y_train, y_test = train_test_split(x_transform, y, test_size = 0.10, random_state = 1)"
      ],
      "metadata": {
        "id": "muS4AyLiPInk"
      },
      "execution_count": 37,
      "outputs": []
    },
    {
      "cell_type": "markdown",
      "source": [
        "# **1. Linear Regression**\n",
        "\n",
        "## **Model Training**"
      ],
      "metadata": {
        "id": "fhX0xnv_fYRQ"
      }
    },
    {
      "cell_type": "code",
      "source": [
        "#Fit\n",
        "#Import model\n",
        "from sklearn.linear_model import LinearRegression\n",
        "\n",
        "#Create instentiate\n",
        "Lin_reg = LinearRegression()\n",
        "\n",
        "#Pass the training data into model and fit it\n",
        "Lin_reg.fit(x_train, y_train)"
      ],
      "metadata": {
        "colab": {
          "base_uri": "https://localhost:8080/",
          "height": 75
        },
        "id": "Ht9hcHHsPIlE",
        "outputId": "ff71f900-ac3d-4975-b9c7-fab5a78be0b8"
      },
      "execution_count": 38,
      "outputs": [
        {
          "output_type": "execute_result",
          "data": {
            "text/plain": [
              "LinearRegression()"
            ],
            "text/html": [
              "<style>#sk-container-id-4 {color: black;background-color: white;}#sk-container-id-4 pre{padding: 0;}#sk-container-id-4 div.sk-toggleable {background-color: white;}#sk-container-id-4 label.sk-toggleable__label {cursor: pointer;display: block;width: 100%;margin-bottom: 0;padding: 0.3em;box-sizing: border-box;text-align: center;}#sk-container-id-4 label.sk-toggleable__label-arrow:before {content: \"▸\";float: left;margin-right: 0.25em;color: #696969;}#sk-container-id-4 label.sk-toggleable__label-arrow:hover:before {color: black;}#sk-container-id-4 div.sk-estimator:hover label.sk-toggleable__label-arrow:before {color: black;}#sk-container-id-4 div.sk-toggleable__content {max-height: 0;max-width: 0;overflow: hidden;text-align: left;background-color: #f0f8ff;}#sk-container-id-4 div.sk-toggleable__content pre {margin: 0.2em;color: black;border-radius: 0.25em;background-color: #f0f8ff;}#sk-container-id-4 input.sk-toggleable__control:checked~div.sk-toggleable__content {max-height: 200px;max-width: 100%;overflow: auto;}#sk-container-id-4 input.sk-toggleable__control:checked~label.sk-toggleable__label-arrow:before {content: \"▾\";}#sk-container-id-4 div.sk-estimator input.sk-toggleable__control:checked~label.sk-toggleable__label {background-color: #d4ebff;}#sk-container-id-4 div.sk-label input.sk-toggleable__control:checked~label.sk-toggleable__label {background-color: #d4ebff;}#sk-container-id-4 input.sk-hidden--visually {border: 0;clip: rect(1px 1px 1px 1px);clip: rect(1px, 1px, 1px, 1px);height: 1px;margin: -1px;overflow: hidden;padding: 0;position: absolute;width: 1px;}#sk-container-id-4 div.sk-estimator {font-family: monospace;background-color: #f0f8ff;border: 1px dotted black;border-radius: 0.25em;box-sizing: border-box;margin-bottom: 0.5em;}#sk-container-id-4 div.sk-estimator:hover {background-color: #d4ebff;}#sk-container-id-4 div.sk-parallel-item::after {content: \"\";width: 100%;border-bottom: 1px solid gray;flex-grow: 1;}#sk-container-id-4 div.sk-label:hover label.sk-toggleable__label {background-color: #d4ebff;}#sk-container-id-4 div.sk-serial::before {content: \"\";position: absolute;border-left: 1px solid gray;box-sizing: border-box;top: 0;bottom: 0;left: 50%;z-index: 0;}#sk-container-id-4 div.sk-serial {display: flex;flex-direction: column;align-items: center;background-color: white;padding-right: 0.2em;padding-left: 0.2em;position: relative;}#sk-container-id-4 div.sk-item {position: relative;z-index: 1;}#sk-container-id-4 div.sk-parallel {display: flex;align-items: stretch;justify-content: center;background-color: white;position: relative;}#sk-container-id-4 div.sk-item::before, #sk-container-id-4 div.sk-parallel-item::before {content: \"\";position: absolute;border-left: 1px solid gray;box-sizing: border-box;top: 0;bottom: 0;left: 50%;z-index: -1;}#sk-container-id-4 div.sk-parallel-item {display: flex;flex-direction: column;z-index: 1;position: relative;background-color: white;}#sk-container-id-4 div.sk-parallel-item:first-child::after {align-self: flex-end;width: 50%;}#sk-container-id-4 div.sk-parallel-item:last-child::after {align-self: flex-start;width: 50%;}#sk-container-id-4 div.sk-parallel-item:only-child::after {width: 0;}#sk-container-id-4 div.sk-dashed-wrapped {border: 1px dashed gray;margin: 0 0.4em 0.5em 0.4em;box-sizing: border-box;padding-bottom: 0.4em;background-color: white;}#sk-container-id-4 div.sk-label label {font-family: monospace;font-weight: bold;display: inline-block;line-height: 1.2em;}#sk-container-id-4 div.sk-label-container {text-align: center;}#sk-container-id-4 div.sk-container {/* jupyter's `normalize.less` sets `[hidden] { display: none; }` but bootstrap.min.css set `[hidden] { display: none !important; }` so we also need the `!important` here to be able to override the default hidden behavior on the sphinx rendered scikit-learn.org. See: https://github.com/scikit-learn/scikit-learn/issues/21755 */display: inline-block !important;position: relative;}#sk-container-id-4 div.sk-text-repr-fallback {display: none;}</style><div id=\"sk-container-id-4\" class=\"sk-top-container\"><div class=\"sk-text-repr-fallback\"><pre>LinearRegression()</pre><b>In a Jupyter environment, please rerun this cell to show the HTML representation or trust the notebook. <br />On GitHub, the HTML representation is unable to render, please try loading this page with nbviewer.org.</b></div><div class=\"sk-container\" hidden><div class=\"sk-item\"><div class=\"sk-estimator sk-toggleable\"><input class=\"sk-toggleable__control sk-hidden--visually\" id=\"sk-estimator-id-4\" type=\"checkbox\" checked><label for=\"sk-estimator-id-4\" class=\"sk-toggleable__label sk-toggleable__label-arrow\">LinearRegression</label><div class=\"sk-toggleable__content\"><pre>LinearRegression()</pre></div></div></div></div></div>"
            ]
          },
          "metadata": {},
          "execution_count": 38
        }
      ]
    },
    {
      "cell_type": "markdown",
      "source": [
        "# **Model Testing**\n",
        "\n",
        "## **Class Prediction**"
      ],
      "metadata": {
        "id": "-DUxKE3Bf4fw"
      }
    },
    {
      "cell_type": "code",
      "source": [
        "#Predict\n",
        "y_pred = Lin_reg.predict(x_test)\n",
        "print(y_pred.shape)\n",
        "print(y_pred)"
      ],
      "metadata": {
        "colab": {
          "base_uri": "https://localhost:8080/"
        },
        "id": "2G4OLz2DPIh-",
        "outputId": "2ad22064-5db9-49c5-ef4c-5ea9ab73e156"
      },
      "execution_count": 39,
      "outputs": [
        {
          "output_type": "stream",
          "name": "stdout",
          "text": [
            "(500,)\n",
            "[1554683.5214399  1583563.24439528  941225.74026093  943645.05050714\n",
            " 1182422.13103409  328801.82154785 1927836.21341998 1069153.56034445\n",
            " 1650471.09661947 1073173.73634535  625424.71460166 1538374.13036006\n",
            " 1631652.9247289  1052427.98639216  959014.31519697 1234206.9702727\n",
            " 1429305.22944777  925549.79891021 1126241.93729671 1159272.38021256\n",
            " 1295981.01672271 1864678.19351198 1182431.10145894 1191493.57355746\n",
            " 1557481.81254847 1862564.76945657  813324.88451243 1063060.65771745\n",
            " 1226156.79626916  659278.7795202   841633.35073089 1635760.74010405\n",
            "  664805.32190952 1117024.80078667  799534.550374   1303687.59142732\n",
            " 1147113.45373281 1348569.86939243 1033860.534031   1162323.80837825\n",
            " 1413268.53943701 1308874.97935079 1578249.18647836 1300199.87406543\n",
            "  846787.67223351  923146.16088842 1230070.83185333 1161447.51667952\n",
            " 1422509.2038584  1334739.83601197 1571116.34224364  745448.4002769\n",
            "  755057.34610782 1036162.37236739 1231514.2682073  1310043.25850097\n",
            " 1542799.49392908 1074684.17469983 1048882.5092484  1586162.20694584\n",
            " 1437708.71039224 1034767.58123862 1719713.20545369 1580876.45631407\n",
            " 1598036.19058281 1879197.73797645 1764686.72207397 1064612.11189582\n",
            "  635487.72813267 1013427.82088741 1335095.93058058 1117482.01802385\n",
            " 1279199.90873888  718010.21154811 1727800.67000248 1897653.48935873\n",
            " 1207763.78006769  868236.73180607 1089419.44204533  596135.40438902\n",
            " 1271531.21085387  640770.07885211  838902.07619488  775128.83489286\n",
            " 1039358.57695224  975344.44422795  775801.28936562 1196590.14558059\n",
            " 1112838.54370835  609124.23992485 1097071.27154888 1649575.60060806\n",
            " 1539403.406176   1216610.92275116  832888.52422284 1207209.39034008\n",
            " 1426841.85916158 1394723.03306482 1025695.55676484 1752347.65502123\n",
            "  656401.9646772  1060206.79066949 1500711.77033177 1385809.12950086\n",
            " 1594469.99816798 1155860.50732385 1076533.26095724 1609931.69678953\n",
            " 1443800.24448563 1067987.81917654 1172295.56815752  732182.87471605\n",
            " 1553821.07947208 1051741.81419449 1187678.20030564 1828983.25778309\n",
            " 1278717.1952528   787713.54507563 1417241.70354607 1161962.14757343\n",
            " 1752023.42842745 1510050.20957336  799578.9401424  1642484.43232077\n",
            " 1376097.75917463 1828684.67742475 1145382.60420964 1190944.05945953\n",
            "  916034.05125019  513458.42536463  770070.10545181 1131758.88258696\n",
            " 1323376.80691893 1229718.54869748  831008.64619082 1056753.98177079\n",
            " 1425742.37213005 1202830.03303658 1407439.40545464 1299452.42405883\n",
            " 1231519.71349873 1125901.22079493 1438003.87323485  573739.03798461\n",
            " 1104674.90407061 1467258.88136135 1413929.92323918 1279289.09274593\n",
            "  728421.12126882 1771338.1243199  1085613.02888771 1470913.99239579\n",
            "  867968.34057659  823835.73731513 1620644.19270428 1391949.80614782\n",
            "  774843.24299576  836699.47787447 1181258.56065346 1862563.01142049\n",
            " 1072133.06750993  997728.58956475 1349133.48994978 1130507.63623542\n",
            " 1441829.16079954 1463136.11924933 1207792.88935887 1472662.37281154\n",
            " 1509721.87917388 1313423.19159533  482782.59705115  330562.76849876\n",
            " 1462174.36853862  589345.1942985  2070942.26577709 1708971.46016803\n",
            " 1308761.21237904 1294295.80858186 1149735.47579157 1400417.27849014\n",
            " 1894360.83724375 1456957.78858552  914864.48261345 1010038.32354541\n",
            " 1392023.23131759 1503072.95354377 1123808.13369252 1728965.43779537\n",
            " 1416689.03071773 1420305.42125919 1278777.1004944   904118.3526019\n",
            " 1134821.08485405 1717346.74595822 1597126.36425499 1327399.68229382\n",
            " 1411287.16031534 1246174.24801728 1999809.43869955 1422720.92894748\n",
            " 1205792.24318035 1624140.78538804  964330.59624281 1178147.02223192\n",
            " 1380418.25779877 1500331.92718855 1213028.07857803 1093646.11614962\n",
            " 1362389.5914049  1971631.9810652  1140777.56820879 1969393.19482104\n",
            " 1247165.13643195 1204842.86498011  634341.92054609 1785442.59970999\n",
            " 1328038.64899686 1039488.65589807 1327300.14739985 1381766.99259904\n",
            "  803911.22408601  696414.09672705 1464396.00925097 1393452.48849102\n",
            " 1425949.20508526 1195000.75492594 1261440.68334029  964103.00468479\n",
            "  594196.98037848 1448195.10674018  650149.38318459 1412757.88470423\n",
            " 1802672.33467543  947130.75311792 1244713.44122335  968790.33660626\n",
            " 1372250.26124987 1740173.10305519 1190569.05000343 1384387.78743908\n",
            " 1617479.23379787 1155863.27160341 1409767.14165693  649472.82309519\n",
            " 1124067.26998032  813845.47062406 1106673.10702285 1022071.11266908\n",
            "  947082.97982683 1371698.44674542 1348290.72819815  841277.69568624\n",
            " 1471284.01836498 1642644.3683375  1101318.02422176  759052.65527796\n",
            " 1298890.35828518  995770.62419604 1196244.35642904 1019589.56333772\n",
            " 1292417.66723801 1627033.0644927   814159.53101342 1641810.68280937\n",
            "  844167.42861697  619783.60510798  774637.94538149 1501584.75305403\n",
            "  856028.79982089  580016.6075899  1076289.25659085 1373301.62748127\n",
            " 1006248.07561523 1108610.18558754 1383992.32438395 1854176.9210039\n",
            " 1382847.53711835 1377515.9343842  1713216.72938663 1460437.56505341\n",
            " 1165848.76517109 1211334.28003908 1153303.80374813 1382278.08940104\n",
            "  877574.75206568  620534.09956814 1362959.09870319 1392368.34060569\n",
            " 1495257.56652746 1022600.903769    568618.65638519 1632316.68942282\n",
            "  626029.73648981  704676.66808056 1842267.76965205 1435793.48835845\n",
            "  734235.6216276   783679.60809431 1369236.26898668  656632.6102258\n",
            " 1316189.26877146 1081115.3486841   970094.82093375 1485914.38874547\n",
            " 1252247.50834833  726418.03251952 1665220.92939834  952232.01225413\n",
            " 1136342.60109232 1820218.05389545 1123769.13622538 1210538.42769056\n",
            " 1154898.64313994  523803.54441675  457402.91783495 1005331.26443192\n",
            " 1446588.43599723 1391018.87917036 1161427.41155033 1545350.27450701\n",
            " 1214957.565319   1199500.67850303  836742.40174493 1439757.76094477\n",
            " 1451197.95724039  618965.22159997 1323821.70651935 1581086.37510466\n",
            " 1210489.94967579  741795.6943812   889406.49870615 1004740.51943493\n",
            " 1025083.96090016 1090089.15535601 1735342.51291325 1721056.12670324\n",
            " 1450724.28341828 1324871.43817055 1290076.63195759 1036209.22896237\n",
            " 1272198.60024449 1065009.69252553  994664.63280408  791855.34689302\n",
            " 1801032.27468505 1332528.76196313 1414150.27604574 1145600.93445248\n",
            "  855521.52551622  572136.20414576 1281418.86602919  768586.44267969\n",
            " 1267994.13776998  296157.83615975  949514.72733202  725154.83730106\n",
            " 1766428.1978053   697421.26361856  395024.50694714 1198821.49575951\n",
            " 1756513.23689053 1455663.57817428 1145359.89875976 1142717.60554106\n",
            " 1222459.33112576  975828.04880728 1690370.31811744  917880.62465832\n",
            "  613868.75254372 1181928.64748869 1160153.82796751 1042563.5223805\n",
            " 1006542.91110429 1054292.12706387 1342308.90878248 1551333.98522283\n",
            "  785697.78874103  730790.06729903  878910.45874738 1404301.42871062\n",
            " 1810430.04840413  827016.76776688 2189726.11546284 1091390.59623949\n",
            " 1619807.72599862 1547513.69023501  831048.4105398  1561613.54379982\n",
            "  958290.72436905 1454542.43565393 1042213.47834436 1070497.19203786\n",
            " 1343392.75171949 1545057.69592966 1120045.97223701 1046952.93968313\n",
            " 1336886.85187418 1323402.81343392 1100484.6252513  1241061.38541145\n",
            " 1038942.1628502  1381613.24710949 1210879.80329594 1793390.43325643\n",
            " 1134300.21346203 1448840.96070563 1310708.12754291  691159.10732478\n",
            " 1027419.2841937   996797.94428764  251296.3906294  1315044.53113005\n",
            " 1083611.64499738 1389266.01622221 1084617.22345916  949568.0205721\n",
            " 1046069.28164601 1477323.04477309  546901.73409087 1625233.81757147\n",
            " 1463747.70154493 1902892.53625999 1526436.79954038 1272159.48492825\n",
            " 1669732.72647712 1324933.84073238 1704058.69658843 1953189.2699517\n",
            " 1494676.17351757 1474126.18250618 1737347.30855879 1396646.59341378\n",
            " 1006169.07141829 1526095.38562208 1394059.84031344  788366.174512\n",
            " 1020751.23622633 1754789.51425171 1419085.2997666  1067822.77662631\n",
            " 1822500.58035228 1181880.47630981 1084113.66027648 2052795.35493091\n",
            "  656885.81604311 1421582.18214833 1297413.65792811 1505641.60529748\n",
            "  893101.1461589  1607839.77751513  986203.36247041 1431610.32959211\n",
            " 1189881.95007823 1555033.50848979  937255.56991636  947258.91229147\n",
            " 1187658.31735874 1166432.9928823   779783.72403714 1466666.10780675\n",
            " 1078143.00771567 1117947.04799268 1299558.52620033 1584166.01513491\n",
            " 1405438.23640103 1385323.09169463 1517135.42125321 1399598.6478953\n",
            " 1546281.16693178  628496.3790359  1181372.33287282 1556210.03838198\n",
            " 1184889.29204733  887967.53050877 1564279.70430035 1490448.67687274\n",
            " 1017202.61616206  950150.39291487 1209829.50828791 1454669.51488864\n",
            " 1189735.80499595 1292745.40496019 1343555.80989831 1486340.74524758\n",
            " 1226730.62653572  292009.66367428  492575.64918318 1461184.42829402\n",
            " 1200061.25757268 1282599.23409158 1388441.37456579 1268138.51567135\n",
            " 1242486.61438753 1824340.13719311 1741751.20201377  711645.93483619\n",
            "  961959.00278801 1075387.93709919  775767.97840105  928659.70545623]\n"
          ]
        }
      ]
    },
    {
      "cell_type": "code",
      "source": [
        "sns.scatterplot(x=y_test, y=y_pred, color='blue', label='Actual Data points')\n",
        "plt.plot([min(y_test), max(y_test)], [min(y_test), max(y_test)], color='red', label='Ideal Line')\n",
        "plt.legend()\n",
        "plt.show()"
      ],
      "metadata": {
        "colab": {
          "base_uri": "https://localhost:8080/",
          "height": 368
        },
        "id": "DRx1eizvPIfI",
        "outputId": "4a1027ce-515a-49d3-fb6f-2c788f2fe6e6"
      },
      "execution_count": 40,
      "outputs": [
        {
          "output_type": "display_data",
          "data": {
            "text/plain": [
              "<Figure size 1000x500 with 1 Axes>"
            ],
            "image/png": "[encoded data removed]"
          },
          "metadata": {}
        }
      ]
    },
    {
      "cell_type": "code",
      "source": [
        "#Combine actual and predicted values side by side\n",
        "results = np.column_stack((y_test, y_pred))\n",
        "\n",
        "#Printing the results\n",
        "print(\"Actual Values  |  Predicted Values\")\n",
        "print(\"-----------------------------\")\n",
        "for actual, predicted in results:\n",
        "  print(f\"{actual:14.2f} | {predicted:14.2f}\")"
      ],
      "metadata": {
        "colab": {
          "base_uri": "https://localhost:8080/"
        },
        "id": "HCuViTvePIc0",
        "outputId": "4d367d0a-6cf2-4d19-88bf-1f61bf33a482"
      },
      "execution_count": 41,
      "outputs": [
        {
          "output_type": "stream",
          "name": "stdout",
          "text": [
            "Actual Values  |  Predicted Values\n",
            "-----------------------------\n",
            "    1413579.82 |     1554683.52\n",
            "    1618721.14 |     1583563.24\n",
            "     841392.49 |      941225.74\n",
            "     881443.92 |      943645.05\n",
            "    1174747.55 |     1182422.13\n",
            "     266298.88 |      328801.82\n",
            "    1877941.97 |     1927836.21\n",
            "    1022408.90 |     1069153.56\n",
            "    1766248.40 |     1650471.10\n",
            "     949072.25 |     1073173.74\n",
            "     565937.20 |      625424.71\n",
            "    1437153.96 |     1538374.13\n",
            "    1582605.54 |     1631652.92\n",
            "    1009854.70 |     1052427.99\n",
            "    1116351.75 |      959014.32\n",
            "    1255736.41 |     1234206.97\n",
            "    1504441.01 |     1429305.23\n",
            "     837540.17 |      925549.80\n",
            "    1096069.29 |     1126241.94\n",
            "    1205962.99 |     1159272.38\n",
            "    1130844.03 |     1295981.02\n",
            "    1815920.45 |     1864678.19\n",
            "    1023595.11 |     1182431.10\n",
            "    1054304.17 |     1191493.57\n",
            "    1399909.05 |     1557481.81\n",
            "    1710612.03 |     1862564.77\n",
            "     670063.02 |      813324.88\n",
            "    1245785.05 |     1063060.66\n",
            "    1168760.43 |     1226156.80\n",
            "     412269.20 |      659278.78\n",
            "     677988.26 |      841633.35\n",
            "    1715435.99 |     1635760.74\n",
            "     662630.34 |      664805.32\n",
            "    1167449.99 |     1117024.80\n",
            "     714706.43 |      799534.55\n",
            "    1411217.49 |     1303687.59\n",
            "    1200125.45 |     1147113.45\n",
            "    1322439.11 |     1348569.87\n",
            "    1127637.56 |     1033860.53\n",
            "    1066040.79 |     1162323.81\n",
            "    1383842.19 |     1413268.54\n",
            "    1364306.77 |     1308874.98\n",
            "    1682105.85 |     1578249.19\n",
            "    1380602.56 |     1300199.87\n",
            "     880084.70 |      846787.67\n",
            "     779207.55 |      923146.16\n",
            "    1029861.62 |     1230070.83\n",
            "    1106149.69 |     1161447.52\n",
            "    1327806.73 |     1422509.20\n",
            "    1377939.77 |     1334739.84\n",
            "    1584317.75 |     1571116.34\n",
            "     944288.91 |      745448.40\n",
            "     759799.88 |      755057.35\n",
            "    1028493.60 |     1036162.37\n",
            "    1164497.02 |     1231514.27\n",
            "    1383508.06 |     1310043.26\n",
            "    1696339.54 |     1542799.49\n",
            "     930011.57 |     1074684.17\n",
            "    1092649.71 |     1048882.51\n",
            "    1686562.17 |     1586162.21\n",
            "    1376969.93 |     1437708.71\n",
            "     868314.47 |     1034767.58\n",
            "    1660678.04 |     1719713.21\n",
            "    1533017.31 |     1580876.46\n",
            "    1735340.26 |     1598036.19\n",
            "    1735416.92 |     1879197.74\n",
            "    1771036.92 |     1764686.72\n",
            "    1068786.67 |     1064612.11\n",
            "     731715.26 |      635487.73\n",
            "     934610.40 |     1013427.82\n",
            "    1137069.31 |     1335095.93\n",
            "    1088634.96 |     1117482.02\n",
            "    1271396.52 |     1279199.91\n",
            "     732733.24 |      718010.21\n",
            "    1702090.64 |     1727800.67\n",
            "    1596440.11 |     1897653.49\n",
            "    1288490.27 |     1207763.78\n",
            "     889831.15 |      868236.73\n",
            "    1151341.85 |     1089419.44\n",
            "     369433.35 |      596135.40\n",
            "    1305219.52 |     1271531.21\n",
            "     782800.49 |      640770.08\n",
            "     968411.62 |      838902.08\n",
            "     781524.18 |      775128.83\n",
            "     896944.24 |     1039358.58\n",
            "     828497.07 |      975344.44\n",
            "     919207.03 |      775801.29\n",
            "    1114128.47 |     1196590.15\n",
            "    1170169.26 |     1112838.54\n",
            "     647691.84 |      609124.24\n",
            "    1160526.06 |     1097071.27\n",
            "    1473071.95 |     1649575.60\n",
            "    1492011.50 |     1539403.41\n",
            "    1413105.49 |     1216610.92\n",
            "     944001.56 |      832888.52\n",
            "    1270999.94 |     1207209.39\n",
            "    1334537.42 |     1426841.86\n",
            "    1525533.41 |     1394723.03\n",
            "     956435.26 |     1025695.56\n",
            "    1639099.38 |     1752347.66\n",
            "     681089.92 |      656401.96\n",
            "    1042144.23 |     1060206.79\n",
            "    1626941.79 |     1500711.77\n",
            "    1427832.12 |     1385809.13\n",
            "    1621700.46 |     1594470.00\n",
            "    1131887.76 |     1155860.51\n",
            "    1005087.36 |     1076533.26\n",
            "    1550702.48 |     1609931.70\n",
            "    1451658.88 |     1443800.24\n",
            "    1007224.93 |     1067987.82\n",
            "    1277744.74 |     1172295.57\n",
            "     663128.84 |      732182.87\n",
            "    1473372.16 |     1553821.08\n",
            "    1090888.96 |     1051741.81\n",
            "    1364832.00 |     1187678.20\n",
            "    1712280.71 |     1828983.26\n",
            "    1165240.18 |     1278717.20\n",
            "     901881.74 |      787713.55\n",
            "    1287030.93 |     1417241.70\n",
            "    1062206.32 |     1161962.15\n",
            "    1727453.15 |     1752023.43\n",
            "    1495384.00 |     1510050.21\n",
            "     925394.14 |      799578.94\n",
            "    1792368.63 |     1642484.43\n",
            "    1483685.90 |     1376097.76\n",
            "    1852375.51 |     1828684.68\n",
            "    1054249.21 |     1145382.60\n",
            "    1063069.92 |     1190944.06\n",
            "    1263018.13 |      916034.05\n",
            "     407718.94 |      513458.43\n",
            "     945551.15 |      770070.11\n",
            "    1158742.83 |     1131758.88\n",
            "    1276471.58 |     1323376.81\n",
            "    1235591.83 |     1229718.55\n",
            "     818289.76 |      831008.65\n",
            "    1114779.25 |     1056753.98\n",
            "    1646662.91 |     1425742.37\n",
            "    1398353.59 |     1202830.03\n",
            "    1434575.11 |     1407439.41\n",
            "    1434803.06 |     1299452.42\n",
            "    1104115.69 |     1231519.71\n",
            "    1149524.70 |     1125901.22\n",
            "    1471031.42 |     1438003.87\n",
            "     485533.68 |      573739.04\n",
            "    1126137.68 |     1104674.90\n",
            "    1300362.03 |     1467258.88\n",
            "    1463003.06 |     1413929.92\n",
            "    1196254.12 |     1279289.09\n",
            "     751969.21 |      728421.12\n",
            "    1696086.17 |     1771338.12\n",
            "    1152046.59 |     1085613.03\n",
            "    1420648.28 |     1470913.99\n",
            "     825095.11 |      867968.34\n",
            "     742858.64 |      823835.74\n",
            "    1670183.17 |     1620644.19\n",
            "    1517316.57 |     1391949.81\n",
            "     762391.78 |      774843.24\n",
            "     693931.50 |      836699.48\n",
            "    1060440.60 |     1181258.56\n",
            "    2007639.43 |     1862563.01\n",
            "    1007478.75 |     1072133.07\n",
            "    1086447.51 |      997728.59\n",
            "    1290043.37 |     1349133.49\n",
            "    1063630.93 |     1130507.64\n",
            "    1494101.44 |     1441829.16\n",
            "    1518387.14 |     1463136.12\n",
            "    1278365.77 |     1207792.89\n",
            "    1394423.56 |     1472662.37\n",
            "    1454749.81 |     1509721.88\n",
            "    1358983.47 |     1313423.19\n",
            "     253185.70 |      482782.60\n",
            "     365929.60 |      330562.77\n",
            "    1555806.04 |     1462174.37\n",
            "     527749.40 |      589345.19\n",
            "    2092348.38 |     2070942.27\n",
            "    1754576.15 |     1708971.46\n",
            "    1151006.08 |     1308761.21\n",
            "    1219154.40 |     1294295.81\n",
            "     977980.92 |     1149735.48\n",
            "    1530294.58 |     1400417.28\n",
            "    1930805.95 |     1894360.84\n",
            "    1411749.11 |     1456957.79\n",
            "    1086825.75 |      914864.48\n",
            "    1122320.93 |     1010038.32\n",
            "    1479063.21 |     1392023.23\n",
            "    1649156.61 |     1503072.95\n",
            "    1182670.14 |     1123808.13\n",
            "    1940225.91 |     1728965.44\n",
            "    1296881.97 |     1416689.03\n",
            "    1604207.68 |     1420305.42\n",
            "    1286400.92 |     1278777.10\n",
            "    1267986.69 |      904118.35\n",
            "    1120349.77 |     1134821.08\n",
            "    1727592.64 |     1717346.75\n",
            "    1445030.98 |     1597126.36\n",
            "    1336858.51 |     1327399.68\n",
            "    1535564.55 |     1411287.16\n",
            "    1123386.53 |     1246174.25\n",
            "    1903813.79 |     1999809.44\n",
            "    1439028.52 |     1422720.93\n",
            "    1449409.44 |     1205792.24\n",
            "    1426682.13 |     1624140.79\n",
            "     954746.58 |      964330.60\n",
            "    1325860.53 |     1178147.02\n",
            "    1349818.25 |     1380418.26\n",
            "    1567368.28 |     1500331.93\n",
            "    1324382.18 |     1213028.08\n",
            "    1169736.79 |     1093646.12\n",
            "    1168822.82 |     1362389.59\n",
            "    1792254.82 |     1971631.98\n",
            "    1296610.53 |     1140777.57\n",
            "    1917584.00 |     1969393.19\n",
            "    1340094.97 |     1247165.14\n",
            "    1159953.59 |     1204842.86\n",
            "     586381.55 |      634341.92\n",
            "    1769484.89 |     1785442.60\n",
            "    1412619.71 |     1328038.65\n",
            "    1218635.85 |     1039488.66\n",
            "    1222412.02 |     1327300.15\n",
            "    1334952.61 |     1381766.99\n",
            "     756216.58 |      803911.22\n",
            "     614700.74 |      696414.10\n",
            "    1344651.57 |     1464396.01\n",
            "    1412144.51 |     1393452.49\n",
            "    1393897.39 |     1425949.21\n",
            "    1154126.22 |     1195000.75\n",
            "    1440909.00 |     1261440.68\n",
            "     936553.70 |      964103.00\n",
            "     642646.44 |      594196.98\n",
            "    1340066.91 |     1448195.11\n",
            "     642855.17 |      650149.38\n",
            "    1297619.35 |     1412757.88\n",
            "    1796531.90 |     1802672.33\n",
            "     841122.88 |      947130.75\n",
            "    1175289.16 |     1244713.44\n",
            "     946556.26 |      968790.34\n",
            "    1329007.20 |     1372250.26\n",
            "    1705276.19 |     1740173.10\n",
            "    1130677.47 |     1190569.05\n",
            "    1205878.77 |     1384387.79\n",
            "    1676770.33 |     1617479.23\n",
            "    1005392.42 |     1155863.27\n",
            "    1405933.02 |     1409767.14\n",
            "     549947.25 |      649472.82\n",
            "    1237902.82 |     1124067.27\n",
            "     694472.11 |      813845.47\n",
            "    1059406.13 |     1106673.11\n",
            "     969678.57 |     1022071.11\n",
            "     651787.97 |      947082.98\n",
            "    1426402.81 |     1371698.45\n",
            "    1388218.53 |     1348290.73\n",
            "     756319.73 |      841277.70\n",
            "    1511352.26 |     1471284.02\n",
            "    1566567.88 |     1642644.37\n",
            "    1133084.32 |     1101318.02\n",
            "     779962.10 |      759052.66\n",
            "    1214689.18 |     1298890.36\n",
            "     992622.77 |      995770.62\n",
            "    1153605.03 |     1196244.36\n",
            "    1003837.67 |     1019589.56\n",
            "    1309768.20 |     1292417.67\n",
            "    1729392.20 |     1627033.06\n",
            "     800809.13 |      814159.53\n",
            "    1609581.80 |     1641810.68\n",
            "    1017775.51 |      844167.43\n",
            "     738431.83 |      619783.61\n",
            "     783808.40 |      774637.95\n",
            "    1557794.02 |     1501584.75\n",
            "     857697.13 |      856028.80\n",
            "     433247.16 |      580016.61\n",
            "    1061785.58 |     1076289.26\n",
            "    1217021.52 |     1373301.63\n",
            "    1186688.51 |     1006248.08\n",
            "    1133910.65 |     1108610.19\n",
            "    1352096.05 |     1383992.32\n",
            "    1804243.86 |     1854176.92\n",
            "    1339303.66 |     1382847.54\n",
            "    1450122.72 |     1377515.93\n",
            "    1601904.36 |     1713216.73\n",
            "    1541746.29 |     1460437.57\n",
            "    1049672.25 |     1165848.77\n",
            "    1086186.43 |     1211334.28\n",
            "    1086735.91 |     1153303.80\n",
            "    1229702.95 |     1382278.09\n",
            "    1083745.37 |      877574.75\n",
            "     629657.61 |      620534.10\n",
            "    1347578.53 |     1362959.10\n",
            "    1279117.97 |     1392368.34\n",
            "    1663509.39 |     1495257.57\n",
            "     968360.52 |     1022600.90\n",
            "     615506.80 |      568618.66\n",
            "    1552536.76 |     1632316.69\n",
            "     737147.09 |      626029.74\n",
            "     676377.66 |      704676.67\n",
            "    1856782.78 |     1842267.77\n",
            "    1420469.73 |     1435793.49\n",
            "     615568.11 |      734235.62\n",
            "     781213.07 |      783679.61\n",
            "    1443842.02 |     1369236.27\n",
            "     625990.30 |      656632.61\n",
            "    1186441.76 |     1316189.27\n",
            "    1209287.54 |     1081115.35\n",
            "     916344.29 |      970094.82\n",
            "    1434835.95 |     1485914.39\n",
            "    1358646.75 |     1252247.51\n",
            "     843633.20 |      726418.03\n",
            "    1534889.85 |     1665220.93\n",
            "     994654.41 |      952232.01\n",
            "    1202987.83 |     1136342.60\n",
            "    1656785.45 |     1820218.05\n",
            "    1098518.13 |     1123769.14\n",
            "    1362436.15 |     1210538.43\n",
            "    1138609.17 |     1154898.64\n",
            "     414165.22 |      523803.54\n",
            "     414571.22 |      457402.92\n",
            "     976649.02 |     1005331.26\n",
            "    1506656.83 |     1446588.44\n",
            "    1407123.80 |     1391018.88\n",
            "     965136.34 |     1161427.41\n",
            "    1461511.88 |     1545350.27\n",
            "    1178846.07 |     1214957.57\n",
            "    1037780.48 |     1199500.68\n",
            "     625880.73 |      836742.40\n",
            "    1265927.36 |     1439757.76\n",
            "    1630952.88 |     1451197.96\n",
            "     491085.83 |      618965.22\n",
            "    1306349.99 |     1323821.71\n",
            "    1610217.18 |     1581086.38\n",
            "    1252416.69 |     1210489.95\n",
            "     845553.37 |      741795.69\n",
            "     766078.37 |      889406.50\n",
            "     913397.09 |     1004740.52\n",
            "     897479.95 |     1025083.96\n",
            "    1081578.62 |     1090089.16\n",
            "    1899948.06 |     1735342.51\n",
            "    1570154.41 |     1721056.13\n",
            "    1459540.13 |     1450724.28\n",
            "    1290784.49 |     1324871.44\n",
            "    1236044.32 |     1290076.63\n",
            "    1088548.83 |     1036209.23\n",
            "    1369016.78 |     1272198.60\n",
            "    1031146.75 |     1065009.69\n",
            "    1073355.78 |      994664.63\n",
            "     726883.87 |      791855.35\n",
            "    1599963.81 |     1801032.27\n",
            "    1333865.44 |     1332528.76\n",
            "    1448774.97 |     1414150.28\n",
            "    1038153.95 |     1145600.93\n",
            "     829868.23 |      855521.53\n",
            "     665266.98 |      572136.20\n",
            "    1246218.31 |     1281418.87\n",
            "     705343.26 |      768586.44\n",
            "    1366727.66 |     1267994.14\n",
            "     231189.82 |      296157.84\n",
            "    1042814.10 |      949514.73\n",
            "     914136.52 |      725154.84\n",
            "    1748474.69 |     1766428.20\n",
            "     880402.76 |      697421.26\n",
            "     601007.35 |      395024.51\n",
            "    1196204.89 |     1198821.50\n",
            "    1664301.51 |     1756513.24\n",
            "    1441736.76 |     1455663.58\n",
            "    1271340.38 |     1145359.90\n",
            "    1129613.01 |     1142717.61\n",
            "    1165877.67 |     1222459.33\n",
            "     938827.80 |      975828.05\n",
            "    1737570.51 |     1690370.32\n",
            "     945614.57 |      917880.62\n",
            "     678721.88 |      613868.75\n",
            "    1203247.89 |     1181928.65\n",
            "    1274474.55 |     1160153.83\n",
            "     955445.85 |     1042563.52\n",
            "    1165990.60 |     1006542.91\n",
            "    1073350.04 |     1054292.13\n",
            "    1126821.11 |     1342308.91\n",
            "    1564252.53 |     1551333.99\n",
            "     771310.00 |      785697.79\n",
            "     711499.24 |      730790.07\n",
            "     878862.75 |      878910.46\n",
            "    1439892.63 |     1404301.43\n",
            "    1935173.00 |     1810430.05\n",
            "     863448.39 |      827016.77\n",
            "    2152959.41 |     2189726.12\n",
            "    1071109.92 |     1091390.60\n",
            "    1706689.94 |     1619807.73\n",
            "    1460758.63 |     1547513.69\n",
            "     803919.81 |      831048.41\n",
            "    1439431.45 |     1561613.54\n",
            "     943854.73 |      958290.72\n",
            "    1503552.21 |     1454542.44\n",
            "    1151233.10 |     1042213.48\n",
            "    1068138.07 |     1070497.19\n",
            "    1153433.08 |     1343392.75\n",
            "    1707269.53 |     1545057.70\n",
            "    1115466.59 |     1120045.97\n",
            "     953840.70 |     1046952.94\n",
            "    1392207.65 |     1336886.85\n",
            "    1530013.45 |     1323402.81\n",
            "    1112314.30 |     1100484.63\n",
            "    1206020.38 |     1241061.39\n",
            "    1111284.16 |     1038942.16\n",
            "    1327975.25 |     1381613.25\n",
            "    1186372.18 |     1210879.80\n",
            "    1833208.58 |     1793390.43\n",
            "    1235681.79 |     1134300.21\n",
            "    1513427.55 |     1448840.96\n",
            "    1385978.98 |     1310708.13\n",
            "     623181.13 |      691159.11\n",
            "    1072704.89 |     1027419.28\n",
            "     951243.85 |      996797.94\n",
            "     287307.58 |      251296.39\n",
            "    1316793.57 |     1315044.53\n",
            "    1106261.27 |     1083611.64\n",
            "    1336356.23 |     1389266.02\n",
            "    1048969.49 |     1084617.22\n",
            "     917351.14 |      949568.02\n",
            "     891661.70 |     1046069.28\n",
            "    1467849.82 |     1477323.04\n",
            "     565680.55 |      546901.73\n",
            "    1731564.38 |     1625233.82\n",
            "    1527439.72 |     1463747.70\n",
            "    1696717.11 |     1902892.54\n",
            "    1361230.12 |     1526436.80\n",
            "    1219778.03 |     1272159.48\n",
            "    1734239.14 |     1669732.73\n",
            "    1298476.89 |     1324933.84\n",
            "    1874415.11 |     1704058.70\n",
            "    1928728.79 |     1953189.27\n",
            "    1492095.14 |     1494676.17\n",
            "    1385400.46 |     1474126.18\n",
            "    1715743.41 |     1737347.31\n",
            "    1527691.70 |     1396646.59\n",
            "    1112194.75 |     1006169.07\n",
            "    1542970.95 |     1526095.39\n",
            "    1393482.85 |     1394059.84\n",
            "     734562.10 |      788366.17\n",
            "    1030729.58 |     1020751.24\n",
            "    1824987.71 |     1754789.51\n",
            "    1489667.75 |     1419085.30\n",
            "    1255576.27 |     1067822.78\n",
            "    1943359.77 |     1822500.58\n",
            "    1069292.33 |     1181880.48\n",
            "    1111360.30 |     1084113.66\n",
            "    2009937.70 |     2052795.35\n",
            "     555755.66 |      656885.82\n",
            "    1499552.27 |     1421582.18\n",
            "    1262552.69 |     1297413.66\n",
            "    1460364.30 |     1505641.61\n",
            "    1073183.76 |      893101.15\n",
            "    1608889.26 |     1607839.78\n",
            "     857934.55 |      986203.36\n",
            "    1601527.41 |     1431610.33\n",
            "    1242316.99 |     1189881.95\n",
            "    1524106.96 |     1555033.51\n",
            "     980049.39 |      937255.57\n",
            "     840272.86 |      947258.91\n",
            "    1200401.99 |     1187658.32\n",
            "    1081150.13 |     1166432.99\n",
            "     768751.90 |      779783.72\n",
            "    1384432.15 |     1466666.11\n",
            "     929247.60 |     1078143.01\n",
            "     999826.61 |     1117947.05\n",
            "    1212899.22 |     1299558.53\n",
            "    1482107.37 |     1584166.02\n",
            "    1318058.06 |     1405438.24\n",
            "    1194357.41 |     1385323.09\n",
            "    1450619.46 |     1517135.42\n",
            "    1442632.54 |     1399598.65\n",
            "    1612717.55 |     1546281.17\n",
            "     663732.40 |      628496.38\n",
            "    1212939.95 |     1181372.33\n",
            "    1569600.45 |     1556210.04\n",
            "    1130293.60 |     1184889.29\n",
            "     810751.73 |      887967.53\n",
            "    1560805.07 |     1564279.70\n",
            "    1538985.19 |     1490448.68\n",
            "    1125696.86 |     1017202.62\n",
            "     839745.68 |      950150.39\n",
            "    1036338.24 |     1209829.51\n",
            "    1412776.58 |     1454669.51\n",
            "    1214563.15 |     1189735.80\n",
            "    1243491.57 |     1292745.40\n",
            "    1412097.18 |     1343555.81\n",
            "    1371521.62 |     1486340.75\n",
            "    1244248.52 |     1226730.63\n",
            "     314167.83 |      292009.66\n",
            "     691854.92 |      492575.65\n",
            "    1456273.72 |     1461184.43\n",
            "    1030591.43 |     1200061.26\n",
            "    1317234.04 |     1282599.23\n",
            "    1396401.02 |     1388441.37\n",
            "    1269293.21 |     1268138.52\n",
            "    1480441.53 |     1242486.61\n",
            "    1678347.53 |     1824340.14\n",
            "    1730103.13 |     1741751.20\n",
            "     787039.64 |      711645.93\n",
            "     881446.12 |      961959.00\n",
            "    1269811.09 |     1075387.94\n",
            "     815593.76 |      775767.98\n",
            "    1025439.43 |      928659.71\n"
          ]
        }
      ]
    },
    {
      "cell_type": "markdown",
      "source": [
        "## **Residual Analysis**\n",
        "Residual analysis in linear regression is a way to check how well the model fits the data. It involves looking at the differences (residuals) between the actual data points and the predictions from the model.\n",
        "\n",
        "In a good model, the residuals should be randomly scattered around zero on a plot. If there are patterns or a fan-like shape, it suggests the model may not be the best fit. Outliers, points far from the others, can also affect the model.\n",
        "\n",
        "Residual analysis helps ensure the model's accuracy and whether it meets the assumptions of linear regression. If issues are found, adjustments to the model may be needed to improve its performance."
      ],
      "metadata": {
        "id": "7jgRLGTNh0iw"
      }
    },
    {
      "cell_type": "code",
      "source": [
        "residual = actual- y_pred.reshape(-1)\n",
        "print(residual)"
      ],
      "metadata": {
        "colab": {
          "base_uri": "https://localhost:8080/"
        },
        "id": "cfVEKgyhPIbF",
        "outputId": "97504dfa-9e99-4c12-940b-f033dd3038fb"
      },
      "execution_count": 42,
      "outputs": [
        {
          "output_type": "stream",
          "name": "stdout",
          "text": [
            "[-5.29244088e+05 -5.58123810e+05  8.42136937e+04  8.17943834e+04\n",
            " -1.56982697e+05  6.96637612e+05 -9.02396779e+05 -4.37141264e+04\n",
            " -6.25031663e+05 -4.77343024e+04  4.00014719e+05 -5.12934696e+05\n",
            " -6.06213491e+05 -2.69885525e+04  6.64251187e+04 -2.08767536e+05\n",
            " -4.03865796e+05  9.98896350e+04 -1.00802503e+05 -1.33832946e+05\n",
            " -2.70541583e+05 -8.39238760e+05 -1.56991668e+05 -1.66054140e+05\n",
            " -5.32042379e+05 -8.37125336e+05  2.12114549e+05 -3.76212238e+04\n",
            " -2.00717362e+05  3.66160654e+05  1.83806083e+05 -6.10321306e+05\n",
            "  3.60634112e+05 -9.15853669e+04  2.25904884e+05 -2.78248157e+05\n",
            " -1.21674020e+05 -3.23130435e+05 -8.42110010e+03 -1.36884374e+05\n",
            " -3.87829106e+05 -2.83435545e+05 -5.52809753e+05 -2.74760440e+05\n",
            "  1.78651762e+05  1.02293273e+05 -2.04631398e+05 -1.36008083e+05\n",
            " -3.97069770e+05 -3.09300402e+05 -5.45676908e+05  2.79991034e+05\n",
            "  2.70382088e+05 -1.07229384e+04 -2.06074834e+05 -2.84603825e+05\n",
            " -5.17360060e+05 -4.92447408e+04 -2.34430753e+04 -5.60722773e+05\n",
            " -4.12269276e+05 -9.32814730e+03 -6.94273772e+05 -5.55437022e+05\n",
            " -5.72596757e+05 -8.53758304e+05 -7.39247288e+05 -3.91726780e+04\n",
            "  3.89951706e+05  1.20116130e+04 -3.09656497e+05 -9.20425841e+04\n",
            " -2.53760475e+05  3.07429222e+05 -7.02361236e+05 -8.72214055e+05\n",
            " -1.82324346e+05  1.57202702e+05 -6.39800081e+04  4.29304030e+05\n",
            " -2.46091777e+05  3.84669355e+05  1.86537358e+05  2.50310599e+05\n",
            " -1.39191430e+04  5.00949897e+04  2.49638145e+05 -1.71150712e+05\n",
            " -8.73991098e+04  4.16315194e+05 -7.16318376e+04 -6.24136167e+05\n",
            " -5.13963972e+05 -1.91171489e+05  1.92550910e+05 -1.81769956e+05\n",
            " -4.01402425e+05 -3.69283599e+05 -2.56122830e+02 -7.26908221e+05\n",
            "  3.69037469e+05 -3.47673567e+04 -4.75272336e+05 -3.60369696e+05\n",
            " -5.69030564e+05 -1.30421073e+05 -5.10938270e+04 -5.84492263e+05\n",
            " -4.18360811e+05 -4.25483852e+04 -1.46856134e+05  2.93256559e+05\n",
            " -5.28381646e+05 -2.63023803e+04 -1.62238766e+05 -8.03543824e+05\n",
            " -2.53277761e+05  2.37725889e+05 -3.91802270e+05 -1.36522714e+05\n",
            " -7.26583994e+05 -4.84610776e+05  2.25860494e+05 -6.17044998e+05\n",
            " -3.50658325e+05 -8.03245243e+05 -1.19943170e+05 -1.65504626e+05\n",
            "  1.09405383e+05  5.11981009e+05  2.55369328e+05 -1.06319449e+05\n",
            " -2.97937373e+05 -2.04279115e+05  1.94430788e+05 -3.13145478e+04\n",
            " -4.00302938e+05 -1.77390599e+05 -3.81999972e+05 -2.74012990e+05\n",
            " -2.06080280e+05 -1.00461787e+05 -4.12564439e+05  4.51700396e+05\n",
            " -7.92354701e+04 -4.41819447e+05 -3.88490489e+05 -2.53849659e+05\n",
            "  2.97018313e+05 -7.45898690e+05 -6.01735950e+04 -4.45474558e+05\n",
            "  1.57471093e+05  2.01603697e+05 -5.95204759e+05 -3.66510372e+05\n",
            "  2.50596191e+05  1.88739956e+05 -1.55819127e+05 -8.37123577e+05\n",
            " -4.66936336e+04  2.77108444e+04 -3.23694056e+05 -1.05068202e+05\n",
            " -4.16389727e+05 -4.37696685e+05 -1.82353455e+05 -4.47222939e+05\n",
            " -4.84282445e+05 -2.87983758e+05  5.42656837e+05  6.94876665e+05\n",
            " -4.36734935e+05  4.36094240e+05 -1.04550283e+06 -6.83532026e+05\n",
            " -2.83321778e+05 -2.68856375e+05 -1.24296042e+05 -3.74977845e+05\n",
            " -8.68921403e+05 -4.31518355e+05  1.10574951e+05  1.54011104e+04\n",
            " -3.66583797e+05 -4.77633520e+05 -9.83686998e+04 -7.03526004e+05\n",
            " -3.91249597e+05 -3.94865987e+05 -2.53337667e+05  1.21321081e+05\n",
            " -1.09381651e+05 -6.91907312e+05 -5.71686930e+05 -3.01960248e+05\n",
            " -3.85847726e+05 -2.20734814e+05 -9.74370005e+05 -3.97281495e+05\n",
            " -1.80352809e+05 -5.98701351e+05  6.11088377e+04 -1.52707588e+05\n",
            " -3.54978824e+05 -4.74892493e+05 -1.87588645e+05 -6.82066822e+04\n",
            " -3.36950157e+05 -9.46192547e+05 -1.15338134e+05 -9.43953761e+05\n",
            " -2.21725702e+05 -1.79403431e+05  3.91097513e+05 -7.60003166e+05\n",
            " -3.02599215e+05 -1.40492220e+04 -3.01860713e+05 -3.56327559e+05\n",
            "  2.21528210e+05  3.29025337e+05 -4.38956575e+05 -3.68013055e+05\n",
            " -4.00509771e+05 -1.69561321e+05 -2.36001249e+05  6.13364293e+04\n",
            "  4.31242454e+05 -4.22755673e+05  3.75290051e+05 -3.87318451e+05\n",
            " -7.77232901e+05  7.83086808e+04 -2.19274007e+05  5.66490973e+04\n",
            " -3.46810827e+05 -7.14733669e+05 -1.65129616e+05 -3.58948354e+05\n",
            " -5.92039800e+05 -1.30423838e+05 -3.84327708e+05  3.75966611e+05\n",
            " -9.86278360e+04  2.11593963e+05 -8.12336731e+04  3.36832127e+03\n",
            "  7.83564541e+04 -3.46259013e+05 -3.22851294e+05  1.84161738e+05\n",
            " -4.45844584e+05 -6.17204934e+05 -7.58785903e+04  2.66386779e+05\n",
            " -2.73450924e+05  2.96688097e+04 -1.70804922e+05  5.84987060e+03\n",
            " -2.66978233e+05 -6.01593631e+05  2.11279903e+05 -6.16371249e+05\n",
            "  1.81272005e+05  4.05655829e+05  2.50801489e+05 -4.76145319e+05\n",
            "  1.69410634e+05  4.45422826e+05 -5.08498227e+04 -3.47862194e+05\n",
            "  1.91913583e+04 -8.31707517e+04 -3.58552890e+05 -8.28737487e+05\n",
            " -3.57408103e+05 -3.52076500e+05 -6.87777295e+05 -4.34998131e+05\n",
            " -1.40409331e+05 -1.85894846e+05 -1.27864370e+05 -3.56838655e+05\n",
            "  1.47864682e+05  4.04905334e+05 -3.37519665e+05 -3.66928907e+05\n",
            " -4.69818133e+05  2.83853017e+03  4.56820778e+05 -6.06877255e+05\n",
            "  3.99409697e+05  3.20762766e+05 -8.16828336e+05 -4.10354054e+05\n",
            "  2.91203812e+05  2.41759826e+05 -3.43796835e+05  3.68806824e+05\n",
            " -2.90749835e+05 -5.56759147e+04  5.53446130e+04 -4.60474955e+05\n",
            " -2.26808074e+05  2.99021401e+05 -6.39781495e+05  7.32074217e+04\n",
            " -1.10903167e+05 -7.94778620e+05 -9.83297023e+04 -1.85098994e+05\n",
            " -1.29459209e+05  5.01635890e+05  5.68036516e+05  2.01081695e+04\n",
            " -4.21149002e+05 -3.65579445e+05 -1.35987978e+05 -5.19910841e+05\n",
            " -1.89518131e+05 -1.74061245e+05  1.88697032e+05 -4.14318327e+05\n",
            " -4.25758523e+05  4.06474212e+05 -2.98382273e+05 -5.55646941e+05\n",
            " -1.85050516e+05  2.83643740e+05  1.36032935e+05  2.06989145e+04\n",
            "  3.55473035e+02 -6.46497214e+04 -7.09903079e+05 -6.95616693e+05\n",
            " -4.25284849e+05 -2.99432004e+05 -2.64637198e+05 -1.07697950e+04\n",
            " -2.46759166e+05 -3.95702586e+04  3.07748011e+04  2.33584087e+05\n",
            " -7.75592841e+05 -3.07089328e+05 -3.88710842e+05 -1.20161501e+05\n",
            "  1.69917908e+05  4.53303230e+05 -2.55979432e+05  2.56852991e+05\n",
            " -2.42554704e+05  7.29281598e+05  7.59247066e+04  3.00284597e+05\n",
            " -7.40988764e+05  3.28018170e+05  6.30414927e+05 -1.73382062e+05\n",
            " -7.31073803e+05 -4.30224144e+05 -1.19920465e+05 -1.17278172e+05\n",
            " -1.97019897e+05  4.96113851e+04 -6.64930884e+05  1.07558809e+05\n",
            "  4.11570681e+05 -1.56489214e+05 -1.34714394e+05 -1.71240884e+04\n",
            "  1.88965228e+04 -2.88526931e+04 -3.16869475e+05 -5.25894551e+05\n",
            "  2.39741645e+05  2.94649367e+05  1.46528975e+05 -3.78861995e+05\n",
            " -7.84990614e+05  1.98422666e+05 -1.16428668e+06 -6.59511623e+04\n",
            " -5.94368292e+05 -5.22074256e+05  1.94391023e+05 -5.36174110e+05\n",
            "  6.71487096e+04 -4.29103002e+05 -1.67740444e+04 -4.50577581e+04\n",
            " -3.17953318e+05 -5.19618262e+05 -9.46065383e+04 -2.15135057e+04\n",
            " -3.11447418e+05 -2.97963379e+05 -7.50451913e+04 -2.15621951e+05\n",
            " -1.35027289e+04 -3.56173813e+05 -1.85440369e+05 -7.67950999e+05\n",
            " -1.08860780e+05 -4.23401527e+05 -2.85268694e+05  3.34280327e+05\n",
            " -1.97985026e+03  2.86414896e+04  7.74143043e+05 -2.89605097e+05\n",
            " -5.81722111e+04 -3.63826582e+05 -5.91777895e+04  7.58714134e+04\n",
            " -2.06298477e+04 -4.51883611e+05  4.78537700e+05 -5.99794384e+05\n",
            " -4.38308268e+05 -8.77453102e+05 -5.00997366e+05 -2.46720051e+05\n",
            " -6.44293293e+05 -2.99494407e+05 -6.78619263e+05 -9.27749836e+05\n",
            " -4.69236740e+05 -4.48686749e+05 -7.11907875e+05 -3.71207159e+05\n",
            "  1.92703625e+04 -5.00655952e+05 -3.68620406e+05  2.37073259e+05\n",
            "  4.68819771e+03 -7.29350080e+05 -3.93645866e+05 -4.23833427e+04\n",
            " -7.97061146e+05 -1.56441042e+05 -5.86742263e+04 -1.02735592e+06\n",
            "  3.68553618e+05 -3.96142748e+05 -2.71974224e+05 -4.80202171e+05\n",
            "  1.32338288e+05 -5.82400344e+05  3.92360715e+04 -4.06170896e+05\n",
            " -1.64442516e+05 -5.29594075e+05  8.81838640e+04  7.81805216e+04\n",
            " -1.62218883e+05 -1.40993559e+05  2.45655710e+05 -4.41226674e+05\n",
            " -5.27035738e+04 -9.25076141e+04 -2.74119092e+05 -5.58726581e+05\n",
            " -3.79998802e+05 -3.59883658e+05 -4.91695987e+05 -3.74159214e+05\n",
            " -5.20841733e+05  3.96943055e+05 -1.55932899e+05 -5.30770604e+05\n",
            " -1.59449858e+05  1.37471903e+05 -5.38840270e+05 -4.65009243e+05\n",
            "  8.23681777e+03  7.52890410e+04 -1.84390074e+05 -4.29230081e+05\n",
            " -1.64296371e+05 -2.67305971e+05 -3.18116376e+05 -4.60901311e+05\n",
            " -2.01291193e+05  7.33429770e+05  5.32863785e+05 -4.35744994e+05\n",
            " -1.74621824e+05 -2.57159800e+05 -3.63001941e+05 -2.42699082e+05\n",
            " -2.17047180e+05 -7.98900703e+05 -7.16311768e+05  3.13793499e+05\n",
            "  6.34804311e+04 -4.99485032e+04  2.49671456e+05  9.67797285e+04]\n"
          ]
        }
      ]
    },
    {
      "cell_type": "code",
      "source": [
        "# Distribution plot for Residual (difference between actual and predicted values)\n",
        "sns.distplot(residual, kde=True)"
      ],
      "metadata": {
        "colab": {
          "base_uri": "https://localhost:8080/",
          "height": 382
        },
        "id": "9qQkiB8RPIY2",
        "outputId": "36dae008-c3a7-4d09-b279-358d8a872b44"
      },
      "execution_count": 43,
      "outputs": [
        {
          "output_type": "execute_result",
          "data": {
            "text/plain": [
              "<Axes: ylabel='Density'>"
            ]
          },
          "metadata": {},
          "execution_count": 43
        },
        {
          "output_type": "display_data",
          "data": {
            "text/plain": [
              "<Figure size 1000x500 with 1 Axes>"
            ],
            "image/png": "[encoded data removed]"
          },
          "metadata": {}
        }
      ]
    },
    {
      "cell_type": "markdown",
      "source": [
        "It represents that our mode is not skewed as the distribution is center aligned but note the values of the X and Y axis they in power of 6. Which means the difference between actual and predicted value was high and but it is reduced to some extent. Which is Good."
      ],
      "metadata": {
        "id": "5ceyl2R0jS3m"
      }
    },
    {
      "cell_type": "markdown",
      "source": [
        "## **Model Evaluation**\n",
        "\n",
        "### **Linear Regression**"
      ],
      "metadata": {
        "id": "ZXL5JpvTjVFa"
      }
    },
    {
      "cell_type": "code",
      "source": [
        "# Score It\n",
        "from sklearn.metrics import mean_squared_error\n",
        "\n",
        "print('Linear Regression Model')\n",
        "# Results\n",
        "print('--'*30)\n",
        "# mean_squared_error(y_test, y_pred)\n",
        "mse = mean_squared_error(y_test, y_pred)\n",
        "rmse = np.sqrt(mse)\n",
        "\n",
        "# Print evaluation metrics\n",
        "print(\"Mean Squared Error:\", mse)\n",
        "print(\"Root Mean Squared Error:\", rmse)"
      ],
      "metadata": {
        "colab": {
          "base_uri": "https://localhost:8080/"
        },
        "id": "PLgxCH_kPIWq",
        "outputId": "cabf77c1-5fbe-4a0b-ee4b-f28a45387c95"
      },
      "execution_count": 46,
      "outputs": [
        {
          "output_type": "stream",
          "name": "stdout",
          "text": [
            "Linear Regression Model\n",
            "------------------------------------------------------------\n",
            "Mean Squared Error: 10475231402.458128\n",
            "Root Mean Squared Error: 102348.57792103478\n"
          ]
        }
      ]
    },
    {
      "cell_type": "code",
      "source": [],
      "metadata": {
        "id": "zjOosa4_PIUb"
      },
      "execution_count": 8,
      "outputs": []
    },
    {
      "cell_type": "code",
      "source": [],
      "metadata": {
        "id": "V28DfQnwPIQ8"
      },
      "execution_count": 8,
      "outputs": []
    },
    {
      "cell_type": "code",
      "source": [],
      "metadata": {
        "id": "pjx12209PIMA"
      },
      "execution_count": 8,
      "outputs": []
    },
    {
      "cell_type": "code",
      "source": [],
      "metadata": {
        "id": "iC2uoKg-PIIh"
      },
      "execution_count": 8,
      "outputs": []
    },
    {
      "cell_type": "code",
      "source": [],
      "metadata": {
        "id": "Igpo-7qjPIEu"
      },
      "execution_count": 8,
      "outputs": []
    },
    {
      "cell_type": "code",
      "source": [],
      "metadata": {
        "id": "_bFiSCwnjds0"
      },
      "execution_count": null,
      "outputs": []
    },
    {
      "cell_type": "code",
      "source": [],
      "metadata": {
        "id": "HvReDUg5jdp0"
      },
      "execution_count": null,
      "outputs": []
    },
    {
      "cell_type": "code",
      "source": [],
      "metadata": {
        "id": "OrkSZomgjdm2"
      },
      "execution_count": null,
      "outputs": []
    },
    {
      "cell_type": "code",
      "source": [],
      "metadata": {
        "id": "n_12ZLPwjdj6"
      },
      "execution_count": null,
      "outputs": []
    },
    {
      "cell_type": "code",
      "source": [],
      "metadata": {
        "id": "DavknLz_jdhr"
      },
      "execution_count": null,
      "outputs": []
    },
    {
      "cell_type": "code",
      "source": [],
      "metadata": {
        "id": "X5DwAGdajdfh"
      },
      "execution_count": null,
      "outputs": []
    },
    {
      "cell_type": "code",
      "source": [],
      "metadata": {
        "id": "ikYtI-Hpjdbf"
      },
      "execution_count": null,
      "outputs": []
    },
    {
      "cell_type": "code",
      "source": [],
      "metadata": {
        "id": "NuDNwHYHjdXs"
      },
      "execution_count": null,
      "outputs": []
    },
    {
      "cell_type": "code",
      "source": [],
      "metadata": {
        "id": "-ft_NbvFjdU2"
      },
      "execution_count": null,
      "outputs": []
    },
    {
      "cell_type": "code",
      "source": [],
      "metadata": {
        "id": "PurMAxFAjdSO"
      },
      "execution_count": null,
      "outputs": []
    },
    {
      "cell_type": "code",
      "source": [],
      "metadata": {
        "id": "eP3pnkZojdPb"
      },
      "execution_count": null,
      "outputs": []
    },
    {
      "cell_type": "code",
      "source": [],
      "metadata": {
        "id": "wtQ8VgshjdMk"
      },
      "execution_count": null,
      "outputs": []
    },
    {
      "cell_type": "code",
      "source": [],
      "metadata": {
        "id": "zB8YtxZMjdJu"
      },
      "execution_count": null,
      "outputs": []
    },
    {
      "cell_type": "code",
      "source": [],
      "metadata": {
        "id": "RiFUM_aKjdG_"
      },
      "execution_count": null,
      "outputs": []
    }
  ]
}